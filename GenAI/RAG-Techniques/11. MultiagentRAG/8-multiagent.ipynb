{
 "cells": [
  {
   "cell_type": "markdown",
   "id": "09ab35a0",
   "metadata": {},
   "source": [
    "### 🤖 What are Multi-Agent RAG Systems?\n",
    "A Multi-Agent RAG System splits the RAG pipeline into multiple specialized agents — each responsible for a specific role — and enables them to collaborate on a single query or task.\n",
    "\n",
    "#### 1. 📋 Multi-Agent Network RAG System with LangGraph\n",
    "Project Overview\n",
    "\n",
    "A beginner-friendly Retrieval-Augmented Generation (RAG) system that uses a multi-agent architecture to intelligently answer questions from your documents. Built with LangGraph v0.3 for workflow orchestration and OpenAI for language understanding.\n",
    "\n",
    "What It Does\n",
    "\n",
    "Transforms your documents (PDFs, text files) into a searchable knowledge base that can answer questions intelligently using AI. Simply upload documents and ask questions in natural language - the system finds relevant information and generates comprehensive answers.\n",
    "Key Features\n",
    "\n",
    "- 📚 Multi-Format Support: Handles PDF and text documents\n",
    "- 🤖 3-Agent Architecture: Specialized agents for document processing, retrieval, and answer generation\n",
    "- 🔍 Smart Search: Vector-based semantic search finds relevant information\n",
    "- 💬 Natural Language Q&A: Ask questions in plain English\n"
   ]
  },
  {
   "cell_type": "code",
   "execution_count": 1,
   "id": "e98587e7",
   "metadata": {},
   "outputs": [],
   "source": [
    "import os\n",
    "from dotenv import load_dotenv\n",
    "load_dotenv()\n",
    "from langchain.chat_models import init_chat_model\n",
    "os.environ[\"TAVILY_API_KEY\"]=\"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\"\n",
    "\n",
    "os.environ[\"OPENAI_API_KEY\"]=os.getenv(\"OPENAI_API_KEY\")"
   ]
  },
  {
   "cell_type": "code",
   "execution_count": 4,
   "id": "60dd4609",
   "metadata": {},
   "outputs": [
    {
     "data": {
      "text/plain": [
       "ChatOpenAI(client=<openai.resources.chat.completions.completions.Completions object at 0x00000238B441BA10>, async_client=<openai.resources.chat.completions.completions.AsyncCompletions object at 0x00000238B4870590>, root_client=<openai.OpenAI object at 0x00000238B4418C20>, root_async_client=<openai.AsyncOpenAI object at 0x00000238B48702F0>, model_name='gpt-4o-mini', model_kwargs={}, openai_api_key=SecretStr('**********'))"
      ]
     },
     "execution_count": 4,
     "metadata": {},
     "output_type": "execute_result"
    }
   ],
   "source": [
    "llm=init_chat_model(\"openai:gpt-4o-mini\")\n",
    "llm"
   ]
  },
  {
   "cell_type": "code",
   "execution_count": 8,
   "id": "647d9e1e",
   "metadata": {},
   "outputs": [],
   "source": [
    "from typing import Annotated\n",
    "\n",
    "from langchain_tavily import TavilySearch\n",
    "from langchain_core.tools import tool\n",
    "from langchain.tools import WikipediaQueryRun\n",
    "from langchain.utilities import WikipediaAPIWrapper\n",
    "from langchain.document_loaders import TextLoader\n",
    "from langchain.vectorstores import FAISS\n",
    "from langchain_openai import OpenAIEmbeddings\n",
    "from langchain.text_splitter import RecursiveCharacterTextSplitter"
   ]
  },
  {
   "cell_type": "code",
   "execution_count": 6,
   "id": "0322592f",
   "metadata": {},
   "outputs": [],
   "source": [
    "tavily_tool=TavilySearch(max_results=5)"
   ]
  },
  {
   "cell_type": "code",
   "execution_count": 9,
   "id": "fe652630",
   "metadata": {},
   "outputs": [
    {
     "data": {
      "text/plain": [
       "Tool(name='InternalResearchNotes', description='Search internal research notes for experimental results', func=<function make_retriever_tool_from_text.<locals>.tool_func at 0x00000238B4055E40>)"
      ]
     },
     "execution_count": 9,
     "metadata": {},
     "output_type": "execute_result"
    }
   ],
   "source": [
    "### generic function to create a retrieval tool\n",
    "from langchain.agents import Tool\n",
    "def make_retriever_tool_from_text(file,name,desc):\n",
    "    docs=TextLoader(file,encoding=\"utf-8\").load()\n",
    "    chunks = RecursiveCharacterTextSplitter(chunk_size=500, chunk_overlap=50).split_documents(docs)\n",
    "    vs = FAISS.from_documents(chunks, OpenAIEmbeddings())\n",
    "    retriever = vs.as_retriever()\n",
    "\n",
    "    def tool_func(query:str)->str:\n",
    "        print(f\"📚 Using tool: {name}\")\n",
    "        results = retriever.invoke(query)\n",
    "        return \"\\n\\n\".join(doc.page_content for doc in results)\n",
    "    \n",
    "    return Tool(name=name,description=desc,func=tool_func)\n",
    "\n",
    "\n",
    "internal_tool_1=make_retriever_tool_from_text(\"internal_docs.txt\",\n",
    "                                              \"InternalResearchNotes\",\n",
    "                                              \"Search internal research notes for experimental results\")\n",
    "\n",
    "internal_tool_1"
   ]
  },
  {
   "cell_type": "code",
   "execution_count": 10,
   "id": "dbf31872",
   "metadata": {},
   "outputs": [],
   "source": [
    "from langchain_core.messages import BaseMessage, HumanMessage\n",
    "from langgraph.prebuilt import create_react_agent\n",
    "from langgraph.graph import MessagesState, END\n",
    "from langgraph.types import Command\n",
    "\n",
    "def get_next_node(last_message: BaseMessage, goto: str):\n",
    "    if \"FINAL ANSWER\" in last_message.content:\n",
    "        # Any agent decided the work is done\n",
    "        return END\n",
    "    return goto"
   ]
  },
  {
   "cell_type": "code",
   "execution_count": 11,
   "id": "f2ef34d3",
   "metadata": {},
   "outputs": [],
   "source": [
    "def make_system_prompt(suffix: str) -> str:\n",
    "    return (\n",
    "        \"You are a helpful AI assistant, collaborating with other assistants.\"\n",
    "        \" Use the provided tools to progress towards answering the question.\"\n",
    "        \" If you are unable to fully answer, that's OK, another assistant with different tools \"\n",
    "        \" will help where you left off. Execute what you can to make progress.\"\n",
    "        \" If you or any of the other assistants have the final answer or deliverable,\"\n",
    "        \" prefix your response with FINAL ANSWER so the team knows to stop.\"\n",
    "        f\"\\n{suffix}\"\n",
    "    )"
   ]
  },
  {
   "cell_type": "code",
   "execution_count": 12,
   "id": "822db5ae",
   "metadata": {},
   "outputs": [
    {
     "data": {
      "image/png": "[encoded data removed]",
      "text/plain": [
       "<langgraph.graph.state.CompiledStateGraph object at 0x00000238B68F12B0>"
      ]
     },
     "execution_count": 12,
     "metadata": {},
     "output_type": "execute_result"
    }
   ],
   "source": [
    "### Reaearch agent and node\n",
    "\n",
    "research_agent=create_react_agent(\n",
    "    llm,\n",
    "    tools=[internal_tool_1,tavily_tool],\n",
    "    prompt=make_system_prompt(\"You can only do research. Use the tool that you are binded with, you can use both of them\" \\\n",
    "    \" You are working with a content writer colleague.\")\n",
    ")\n",
    "\n",
    "research_agent"
   ]
  },
  {
   "cell_type": "code",
   "execution_count": 13,
   "id": "c5087088",
   "metadata": {},
   "outputs": [],
   "source": [
    "## Reaearch node\n",
    "from typing import Literal\n",
    "def research_node(state:MessagesState)-> Command[Literal[\"blog_generator\",END]]:\n",
    "    result = research_agent.invoke(state)\n",
    "    goto = get_next_node(result[\"messages\"][-1], \"blog_generator\")\n",
    "\n",
    "    # wrap in a human message, as not all providers allow\n",
    "    # AI message at the last position of the input messages list\n",
    "    result[\"messages\"][-1] = HumanMessage(\n",
    "        content=result[\"messages\"][-1].content, name=\"researcher\"\n",
    "    )\n",
    "    return Command(\n",
    "        update={\n",
    "            # share internal message history of research agent with other agents\n",
    "            \"messages\": result[\"messages\"],\n",
    "        },\n",
    "        goto=goto,\n",
    "    )\n",
    "\n"
   ]
  },
  {
   "cell_type": "code",
   "execution_count": 14,
   "id": "8bc2028a",
   "metadata": {},
   "outputs": [],
   "source": [
    "### Blog write agent\n",
    "blog_agent=create_react_agent(\n",
    "    llm,\n",
    "    tools=[],\n",
    "    prompt=make_system_prompt(\n",
    "        \"You can only write a detailed blog. You are working with a researcher colleague.\"\n",
    "    )\n",
    ")\n",
    "\n",
    "def blog_node(state: MessagesState) -> Command[Literal[\"researcher\", END]]:\n",
    "    result = blog_agent.invoke(state)\n",
    "    goto = get_next_node(result[\"messages\"][-1], \"researcher\")\n",
    "    # wrap in a human message, as not all providers allow\n",
    "    # AI message at the last position of the input messages list\n",
    "    result[\"messages\"][-1] = HumanMessage(\n",
    "        content=result[\"messages\"][-1].content, name=\"blog_generator\"\n",
    "    )\n",
    "    return Command(\n",
    "        update={\n",
    "            # share internal message history of chart agent with other agents\n",
    "            \"messages\": result[\"messages\"],\n",
    "        },\n",
    "        goto=goto,\n",
    "    )"
   ]
  },
  {
   "cell_type": "code",
   "execution_count": 15,
   "id": "3cab0b1c",
   "metadata": {},
   "outputs": [
    {
     "data": {
      "image/png": "[encoded data removed]",
      "text/plain": [
       "<langgraph.graph.state.CompiledStateGraph object at 0x00000238B68D2490>"
      ]
     },
     "execution_count": 15,
     "metadata": {},
     "output_type": "execute_result"
    }
   ],
   "source": [
    "from langgraph.graph import StateGraph, START\n",
    "\n",
    "workflow = StateGraph(MessagesState)\n",
    "workflow.add_node(\"researcher\", research_node)\n",
    "workflow.add_node(\"blog_generator\", blog_node)\n",
    "\n",
    "workflow.add_edge(START, \"researcher\")\n",
    "graph = workflow.compile()\n",
    "graph"
   ]
  },
  {
   "cell_type": "code",
   "execution_count": 17,
   "id": "08666a62",
   "metadata": {},
   "outputs": [
    {
     "name": "stdout",
     "output_type": "stream",
     "text": [
      "📚 Using tool: InternalResearchNotes\n"
     ]
    }
   ],
   "source": [
    "response=graph.invoke({\"messages\":\"Write a detailed blog on transformer variants in production deployments\"})"
   ]
  },
  {
   "cell_type": "code",
   "execution_count": 18,
   "id": "b878d0f7",
   "metadata": {},
   "outputs": [
    {
     "data": {
      "text/plain": [
       "'FINAL ANSWER\\n\\n# Transformer Variants in Production Deployments\\n\\nTransformer models have revolutionized the field of natural language processing (NLP) and have found extensive applications across various domains, from machine translation to sentiment analysis. Their versatility, speed, and performance make them a preferred choice for contemporary AI applications. In production deployments, multiple variants of these models have been adopted, each optimized for specific tasks, environments, or constraints. In this blog post, we will analyze several notable transformer variants, their use cases, deployment strategies, and best practices.\\n\\n## 1. Types of Transformer Models\\n\\n### a. BERT (Bidirectional Encoder Representations from Transformers)\\n\\nBERT is an auto-encoding transformer model designed primarily for language understanding tasks. It analyzes text from both directions (left-to-right and right-to-left), which allows it to better grasp the context of words in a sentence. BERT is adept at tasks like sentence classification, named entity recognition, and question answering.\\n\\n### b. GPT (Generative Pre-trained Transformer)\\n\\nGPT, on the other hand, is an autoregressive model that focuses on text generation. It reads input text in a left-to-right manner and generates coherent and contextually relevant continuations. Consequently, it is extensively used in applications like chatbots, creative writing, and conversational AI.\\n\\n### c. T5 (Text-to-Text Transfer Transformer)\\n\\nThe T5 model treats all NLP tasks in a unified text-to-text format, making it incredibly versatile. T5 can translate languages, summarize text, and even answer questions based on provided context. Its training methodology allows it to generalize well across different NLP tasks.\\n\\n### d. Vision Transformers (ViT)\\n\\nTransformers have also made their way into computer vision tasks. Vision Transformers (ViTs) split images into patches and apply a transformer architecture to process them. This approach has yielded impressive results in tasks like image classification and object detection.\\n\\n### e. EfficientFormer\\n\\nA more recent addition to transformer variants is EfficientFormer, optimized specifically for mobile and edge devices. This model boasts reduced inference time while maintaining accuracy, making it suitable for applications requiring low latency, such as mobile apps and IoT devices.\\n\\n## 2. Deployment Strategies\\n\\n### a. Containerization and CI/CD Pipelines\\n\\nDeploying transformer models requires robust infrastructure to ensure scalability and reliability. Many organizations utilize containerization, often through Docker, to package their models alongside dependencies into consistent environments that can be deployed across various platforms. CI/CD (Continuous Integration and Continuous Deployment) pipelines are essential for version control and rollout of new model versions with minimal downtime.\\n\\nFor instance, organizations are using tools like GitHub Actions and automated deployments via Kubernetes for versioning, testing, and rolling back when necessary.\\n\\n### b. Cloud Services\\n\\nCloud providers offer managed services that simplify deployment. For example, AWS provides services tailored for deep learning applications, such as SageMaker, which allows developers to deploy models without worrying about server management or scaling.\\n\\nHugging Face Inference Endpoints is another option, which enables minimal-click deployment of transformer models without delving into the complexities of container management. This service ensures compliance and robustness in production environments.\\n\\n### c. Performance Optimization\\n\\nAfter deployment, it is critical to monitor and optimize transformer models to enhance their performance. Several optimizations are commonly applied:\\n- **Quantization:** This reduces the model size and speeds up inference while preserving accuracy.\\n- **Model Distillation:** This technique involves training a smaller model (student) to replicate the knowledge of a larger model (teacher), resulting in faster and more efficient deployments.\\n- **Mixed-Precision Training:** Leveraging the capabilities of modern GPUs (like Nvidia A100s) can significantly enhance training speed and reduce memory consumption.\\n\\n### d. Security and Compliance\\n\\nWhen deploying transformer models, particularly in sensitive areas like healthcare or finance, it’s crucial to ensure data privacy and compliance with regulations such as GDPR or HIPAA. Measures must be taken to secure incoming and outgoing data and protect personal information throughout the deployment lifecycle.\\n\\n## 3. Best Practices for Successful Deployment\\n\\nEnsuring the successful deployment of transformer models goes beyond merely placing them in a production environment. Here are some best practices:\\n\\n- **Thorough Testing:** Before deployment, extensive testing across multiple scenarios is paramount. This includes unit testing, integration testing, and performance benchmarks to ensure the model performs as expected under load.\\n  \\n- **Version Control:** Maintaining a robust versioning strategy for models allows organizations to rollback to former versions easily, aiding in rapid responses to business needs.\\n\\n- **Monitoring and Logging:** Post-deployment, it is vital to monitor model performance actively. This can be achieved through logging mechanisms to capture any anomalies, enabling timely adjustments and ensuring the model retains optimum performance.\\n\\n- **User Feedback Loop:** Implementing a feedback mechanism to gather insights from end-users can provide invaluable data to continuously refine and optimize the model. \\n\\n## Conclusion\\n\\nTransformer variants have transformed the landscape of AI and machine learning, finding application across various domains. The choice of model and the associated deployment strategies can greatly impact the effectiveness and efficiency of AI initiatives. By leveraging modern containerization techniques, cloud services, and adhering to best practices for deployment, organizations can optimize their transformer models for production, delivering robust and scalable AI solutions. Whether optimizing for resource-constrained environments or scaling to meet high demands, the appropriate transformer model can make a significant difference in achieving business objectives.\\n\\nFor more insights and technologies surrounding transformer deployment, check additional resources such as the [Hugging Face course on model deployment](https://huggingface.co/learn/computer-vision-course/en/unit9/model_deployment) and [AWS deployment guides](https://aws.plainenglish.io/deploying-transformer-models-distilbert-on-aws-for-production-a-step-by-step-tutorial-with-2c5c3fa9fbcf).'"
      ]
     },
     "execution_count": 18,
     "metadata": {},
     "output_type": "execute_result"
    }
   ],
   "source": [
    "response[\"messages\"][-1].content"
   ]
  },
  {
   "cell_type": "markdown",
   "id": "25b8965d",
   "metadata": {},
   "source": [
    "### Multi Agent Suprvisor With RAG\n",
    "Supervisor is a multi-agent architecture where specialized agents are coordinated by a central supervisor agent. The supervisor agent controls all communication flow and task delegation, making decisions about which agent to invoke based on the current context and task requirements.\n",
    "\n",
    "In this tutorial, you will build a supervisor system with two agents — a research and a math expert. By the end of the tutorial you will:\n",
    "\n",
    "1. Build specialized research and math agents\n",
    "2. Build a supervisor for orchestrating them with the prebuilt langgraph-supervisor\n",
    "3. Build a supervisor \n",
    "4. Implement advanced task delegation\n"
   ]
  },
  {
   "cell_type": "code",
   "execution_count": 19,
   "id": "af44ea36",
   "metadata": {},
   "outputs": [
    {
     "data": {
      "text/plain": [
       "Tool(name='InternalResearchNotes', description='Search internal research notes for experimental results', func=<function make_retriever_tool_from_text.<locals>.tool_func at 0x00000238B4055E40>)"
      ]
     },
     "execution_count": 19,
     "metadata": {},
     "output_type": "execute_result"
    }
   ],
   "source": [
    "internal_tool_1"
   ]
  },
  {
   "cell_type": "code",
   "execution_count": 21,
   "id": "b5b0e699",
   "metadata": {},
   "outputs": [
    {
     "data": {
      "text/plain": [
       "TavilySearch(max_results=3, api_wrapper=TavilySearchAPIWrapper(tavily_api_key=SecretStr('**********'), api_base_url=None))"
      ]
     },
     "execution_count": 21,
     "metadata": {},
     "output_type": "execute_result"
    }
   ],
   "source": [
    "from langchain_tavily import TavilySearch\n",
    "\n",
    "web_search = TavilySearch(max_results=3)\n",
    "web_search"
   ]
  },
  {
   "cell_type": "code",
   "execution_count": 22,
   "id": "90e42417",
   "metadata": {},
   "outputs": [
    {
     "data": {
      "image/png": "[encoded data removed]",
      "text/plain": [
       "<langgraph.graph.state.CompiledStateGraph object at 0x00000238F87596E0>"
      ]
     },
     "execution_count": 22,
     "metadata": {},
     "output_type": "execute_result"
    }
   ],
   "source": [
    "from langgraph.prebuilt import create_react_agent\n",
    "\n",
    "research_agent=create_react_agent(\n",
    "    model=llm,\n",
    "    tools=[web_search,internal_tool_1],\n",
    "    prompt=(\n",
    "        \"You are a research agent.\\n\\n\"\n",
    "        \"INSTRUCTIONS:\\n\"\n",
    "        \"- Assist ONLY with research-related tasks, DO NOT do any math\\n\"\n",
    "        \"- After you're done with your tasks, respond to the supervisor directly\\n\"\n",
    "        \"- Respond ONLY with the results of your work, do NOT include ANY other text.\"\n",
    "    ),\n",
    "    name=\"research_agent\"\n",
    ")\n",
    "research_agent"
   ]
  },
  {
   "cell_type": "code",
   "execution_count": 23,
   "id": "e8619065",
   "metadata": {},
   "outputs": [],
   "source": [
    "def add(a: float, b: float):\n",
    "    \"\"\"Add two numbers.\"\"\"\n",
    "    return a + b\n",
    "\n",
    "\n",
    "def multiply(a: float, b: float):\n",
    "    \"\"\"Multiply two numbers.\"\"\"\n",
    "    return a * b\n",
    "\n",
    "\n",
    "def divide(a: float, b: float):\n",
    "    \"\"\"Divide two numbers.\"\"\"\n",
    "    return a / b\n",
    "\n",
    "\n",
    "math_agent=create_react_agent(\n",
    "    model=llm,\n",
    "    tools=[add,multiply,divide],\n",
    "    prompt=(\n",
    "        \"You are a math agent.\\n\\n\"\n",
    "        \"INSTRUCTIONS:\\n\"\n",
    "        \"- Assist ONLY with math-related tasks\\n\"\n",
    "        \"- After you're done with your tasks, respond to the supervisor directly\\n\"\n",
    "        \"- Respond ONLY with the results of your work, do NOT include ANY other text.\"\n",
    "    ),\n",
    "    name=\"math_agent\"\n",
    "\n",
    ")"
   ]
  },
  {
   "cell_type": "code",
   "execution_count": 24,
   "id": "198cee71",
   "metadata": {},
   "outputs": [
    {
     "data": {
      "image/png": "[encoded data removed]",
      "text/plain": [
       "<langgraph.graph.state.CompiledStateGraph object at 0x00000238F875B5C0>"
      ]
     },
     "execution_count": 24,
     "metadata": {},
     "output_type": "execute_result"
    }
   ],
   "source": [
    "### create supervisor agent\n",
    "\n",
    "from langgraph_supervisor import create_supervisor\n",
    "supervisor=create_supervisor(\n",
    "    model=llm,\n",
    "    agents=[research_agent,math_agent],\n",
    "    prompt=(\n",
    "         \"You are a supervisor managing two agents:\\n\"\n",
    "        \"- a research agent. Assign research-related tasks to this agent\\n\"\n",
    "        \"- a math agent. Assign math-related tasks to this agent\\n\"\n",
    "        \"Assign work to one agent at a time, do not call agents in parallel.\\n\"\n",
    "        \"Do not do any work yourself.\"\n",
    "\n",
    "    ),\n",
    "    add_handoff_back_messages=True,\n",
    "    output_mode=\"full_history\"\n",
    ").compile()\n",
    "\n",
    "supervisor"
   ]
  },
  {
   "cell_type": "code",
   "execution_count": 25,
   "id": "f530a33e",
   "metadata": {},
   "outputs": [
    {
     "name": "stdout",
     "output_type": "stream",
     "text": [
      "📚 Using tool: InternalResearchNotes\n"
     ]
    }
   ],
   "source": [
    "response=supervisor.invoke({\"messages\":\" list all the transformer variants in production deployments from the retriever and then tell me what is 5 plus 10\"})"
   ]
  },
  {
   "cell_type": "code",
   "execution_count": 26,
   "id": "db7b8b2d",
   "metadata": {},
   "outputs": [
    {
     "data": {
      "text/plain": [
       "{'messages': [HumanMessage(content=' list all the transformer variants in production deployments from the retriever and then tell me what is 5 plus 10', additional_kwargs={}, response_metadata={}, id='e9301418-3ec6-46e2-bcf0-201b432514f5'),\n",
       "  AIMessage(content='', additional_kwargs={'tool_calls': [{'id': 'call_FqDcoD0mCS3oDvbnIlH7HMLQ', 'function': {'arguments': '{}', 'name': 'transfer_to_research_agent'}, 'type': 'function'}], 'refusal': None}, response_metadata={'token_usage': {'completion_tokens': 13, 'prompt_tokens': 142, 'total_tokens': 155, 'completion_tokens_details': {'accepted_prediction_tokens': 0, 'audio_tokens': 0, 'reasoning_tokens': 0, 'rejected_prediction_tokens': 0}, 'prompt_tokens_details': {'audio_tokens': 0, 'cached_tokens': 0}}, 'model_name': 'gpt-4o-mini-2024-07-18', 'system_fingerprint': 'fp_34a54ae93c', 'id': 'chatcmpl-C1vGwjil4WHelhpYBpjei3B1NbEsz', 'service_tier': 'default', 'finish_reason': 'tool_calls', 'logprobs': None}, name='supervisor', id='run--72f88eae-88cf-4b43-9a84-509d4c12cb8c-0', tool_calls=[{'name': 'transfer_to_research_agent', 'args': {}, 'id': 'call_FqDcoD0mCS3oDvbnIlH7HMLQ', 'type': 'tool_call'}], usage_metadata={'input_tokens': 142, 'output_tokens': 13, 'total_tokens': 155, 'input_token_details': {'audio': 0, 'cache_read': 0}, 'output_token_details': {'audio': 0, 'reasoning': 0}}),\n",
       "  ToolMessage(content='Successfully transferred to research_agent', name='transfer_to_research_agent', id='9bb8db8c-7315-4249-bbc0-fdbfc074c239', tool_call_id='call_FqDcoD0mCS3oDvbnIlH7HMLQ'),\n",
       "  AIMessage(content='', additional_kwargs={'tool_calls': [{'id': 'call_RNwKJjJWUsGC00rFPZQPs8Ot', 'function': {'arguments': '{\"__arg1\":\"transformer variants in production deployments\"}', 'name': 'InternalResearchNotes'}, 'type': 'function'}], 'refusal': None}, response_metadata={'token_usage': {'completion_tokens': 22, 'prompt_tokens': 1407, 'total_tokens': 1429, 'completion_tokens_details': {'accepted_prediction_tokens': 0, 'audio_tokens': 0, 'reasoning_tokens': 0, 'rejected_prediction_tokens': 0}, 'prompt_tokens_details': {'audio_tokens': 0, 'cached_tokens': 0}}, 'model_name': 'gpt-4o-mini-2024-07-18', 'system_fingerprint': 'fp_34a54ae93c', 'id': 'chatcmpl-C1vGyRd3m1WyQDPaWiuU4zC9KusLH', 'service_tier': 'default', 'finish_reason': 'tool_calls', 'logprobs': None}, name='research_agent', id='run--fd382b5e-110e-4aae-afa3-53a1b4061490-0', tool_calls=[{'name': 'InternalResearchNotes', 'args': {'__arg1': 'transformer variants in production deployments'}, 'id': 'call_RNwKJjJWUsGC00rFPZQPs8Ot', 'type': 'tool_call'}], usage_metadata={'input_tokens': 1407, 'output_tokens': 22, 'total_tokens': 1429, 'input_token_details': {'audio': 0, 'cache_read': 0}, 'output_token_details': {'audio': 0, 'reasoning': 0}}),\n",
       "  ToolMessage(content='Title: Transformer Variants for Production\\n\\nWe have used the following transformer variants in production deployments:\\n\\n1. EfficientFormer:\\n   - Optimized for mobile inference.\\n   - Deployed in multiple mobile and edge environments.\\n   - Quantized using ONNX and optimized via TensorRT.\\n   - Benchmarked with 1.2ms inference time on A72 CPUs.\\n\\nAdditional Notes:\\n\\n- Vision transformers (ViT and Swin Transformer) evaluated in manufacturing QC tasks.\\n- Speech transformers (Wav2Vec 2.0) benchmarked for voice assistant integrations.\\n- Tokenizers: SentencePiece, BPE, and unigram tokenizers compared for multilingual tasks.\\n- Significant improvements noted with FlashAttention and Rotary Positional Encoding.\\n\\n3. Reformer:\\n   - Tested for memory efficiency on embedded devices.\\n   - LSH attention led to 60% memory reduction.\\n   - Integration challenges with standard transformers due to bucket collisions.\\n   - Ongoing investigation for training stability and gradient clipping strategies.\\n\\nOptimizations:\\n\\n- Distillation of teacher-student models using response alignment\\n- Knowledge injection via adapters\\n- Mixed-precision training (AMP) with Nvidia A100s\\n- Use of DVC and MLflow for experiment tracking\\n- Canary rollout strategy for model updates\\n- CI/CD: GitHub Actions → Docker → EKS with Helm charts\\n\\nAdditional Notes:', name='InternalResearchNotes', id='60608d0f-8bd8-44de-807b-de20e65b9dda', tool_call_id='call_RNwKJjJWUsGC00rFPZQPs8Ot'),\n",
       "  AIMessage(content='1. EfficientFormer\\n   - Optimized for mobile inference.\\n   - Deployed in multiple mobile and edge environments.\\n   - Quantized using ONNX and optimized via TensorRT.\\n\\n2. Reformer\\n   - Tested for memory efficiency on embedded devices.\\n   - LSH attention led to 60% memory reduction.\\n\\nAdditional evaluated variants include Vision Transformers (ViT and Swin Transformer) and Speech Transformers (Wav2Vec 2.0). \\n\\nOther optimizations noted involve various training and deployment strategies.', additional_kwargs={'refusal': None}, response_metadata={'token_usage': {'completion_tokens': 105, 'prompt_tokens': 1714, 'total_tokens': 1819, 'completion_tokens_details': {'accepted_prediction_tokens': 0, 'audio_tokens': 0, 'reasoning_tokens': 0, 'rejected_prediction_tokens': 0}, 'prompt_tokens_details': {'audio_tokens': 0, 'cached_tokens': 0}}, 'model_name': 'gpt-4o-mini-2024-07-18', 'system_fingerprint': 'fp_34a54ae93c', 'id': 'chatcmpl-C1vH4pR2H43B5BEAxYwjWZ9GfP1a9', 'service_tier': 'default', 'finish_reason': 'stop', 'logprobs': None}, name='research_agent', id='run--3170b4ae-73f0-4cbf-8e20-6991bafe6950-0', usage_metadata={'input_tokens': 1714, 'output_tokens': 105, 'total_tokens': 1819, 'input_token_details': {'audio': 0, 'cache_read': 0}, 'output_token_details': {'audio': 0, 'reasoning': 0}}),\n",
       "  AIMessage(content='Transferring back to supervisor', additional_kwargs={}, response_metadata={'__is_handoff_back': True}, name='research_agent', id='92e35384-f914-4a5a-9c56-a6bb9178934b', tool_calls=[{'name': 'transfer_back_to_supervisor', 'args': {}, 'id': '7f4701d5-3da1-455a-873e-ee40560df63f', 'type': 'tool_call'}]),\n",
       "  ToolMessage(content='Successfully transferred back to supervisor', name='transfer_back_to_supervisor', id='83821489-6af7-4323-bd16-0cd5391b1be4', tool_call_id='7f4701d5-3da1-455a-873e-ee40560df63f'),\n",
       "  AIMessage(content='', additional_kwargs={'tool_calls': [{'id': 'call_CRaQWbdS3q0hhhwKoF5PMCDS', 'function': {'arguments': '{}', 'name': 'transfer_to_math_agent'}, 'type': 'function'}], 'refusal': None}, response_metadata={'token_usage': {'completion_tokens': 12, 'prompt_tokens': 637, 'total_tokens': 649, 'completion_tokens_details': {'accepted_prediction_tokens': 0, 'audio_tokens': 0, 'reasoning_tokens': 0, 'rejected_prediction_tokens': 0}, 'prompt_tokens_details': {'audio_tokens': 0, 'cached_tokens': 0}}, 'model_name': 'gpt-4o-mini-2024-07-18', 'system_fingerprint': 'fp_34a54ae93c', 'id': 'chatcmpl-C1vH7XfrUuGzeVNFdqoNVg5B1tauA', 'service_tier': 'default', 'finish_reason': 'tool_calls', 'logprobs': None}, name='supervisor', id='run--99e0b08a-4ffc-448f-998c-afe898b75920-0', tool_calls=[{'name': 'transfer_to_math_agent', 'args': {}, 'id': 'call_CRaQWbdS3q0hhhwKoF5PMCDS', 'type': 'tool_call'}], usage_metadata={'input_tokens': 637, 'output_tokens': 12, 'total_tokens': 649, 'input_token_details': {'audio': 0, 'cache_read': 0}, 'output_token_details': {'audio': 0, 'reasoning': 0}}),\n",
       "  ToolMessage(content='Successfully transferred to math_agent', name='transfer_to_math_agent', id='6e73a2a3-848e-47df-b5ab-a44be4b4e371', tool_call_id='call_CRaQWbdS3q0hhhwKoF5PMCDS'),\n",
       "  AIMessage(content='', additional_kwargs={'tool_calls': [{'id': 'call_37BGpkc7GliXVlc08Sr4cgat', 'function': {'arguments': '{\"a\":5,\"b\":10}', 'name': 'add'}, 'type': 'function'}], 'refusal': None}, response_metadata={'token_usage': {'completion_tokens': 17, 'prompt_tokens': 682, 'total_tokens': 699, 'completion_tokens_details': {'accepted_prediction_tokens': 0, 'audio_tokens': 0, 'reasoning_tokens': 0, 'rejected_prediction_tokens': 0}, 'prompt_tokens_details': {'audio_tokens': 0, 'cached_tokens': 0}}, 'model_name': 'gpt-4o-mini-2024-07-18', 'system_fingerprint': 'fp_34a54ae93c', 'id': 'chatcmpl-C1vH8zDLvQl7f7WKL1KJjiSuUTP47', 'service_tier': 'default', 'finish_reason': 'tool_calls', 'logprobs': None}, name='math_agent', id='run--bd3ded95-b396-428c-9b3b-d128498a1cc9-0', tool_calls=[{'name': 'add', 'args': {'a': 5, 'b': 10}, 'id': 'call_37BGpkc7GliXVlc08Sr4cgat', 'type': 'tool_call'}], usage_metadata={'input_tokens': 682, 'output_tokens': 17, 'total_tokens': 699, 'input_token_details': {'audio': 0, 'cache_read': 0}, 'output_token_details': {'audio': 0, 'reasoning': 0}}),\n",
       "  ToolMessage(content='15.0', name='add', id='468515d5-4f43-441b-af59-ea13c7a1cbc4', tool_call_id='call_37BGpkc7GliXVlc08Sr4cgat'),\n",
       "  AIMessage(content='15.0', additional_kwargs={'refusal': None}, response_metadata={'token_usage': {'completion_tokens': 4, 'prompt_tokens': 712, 'total_tokens': 716, 'completion_tokens_details': {'accepted_prediction_tokens': 0, 'audio_tokens': 0, 'reasoning_tokens': 0, 'rejected_prediction_tokens': 0}, 'prompt_tokens_details': {'audio_tokens': 0, 'cached_tokens': 0}}, 'model_name': 'gpt-4o-mini-2024-07-18', 'system_fingerprint': 'fp_34a54ae93c', 'id': 'chatcmpl-C1vH9h9nUQLnrGwKjosEzxRAbOWkg', 'service_tier': 'default', 'finish_reason': 'stop', 'logprobs': None}, name='math_agent', id='run--67881416-6586-4a3a-b3be-8f531d588c9f-0', usage_metadata={'input_tokens': 712, 'output_tokens': 4, 'total_tokens': 716, 'input_token_details': {'audio': 0, 'cache_read': 0}, 'output_token_details': {'audio': 0, 'reasoning': 0}}),\n",
       "  AIMessage(content='Transferring back to supervisor', additional_kwargs={}, response_metadata={'__is_handoff_back': True}, name='math_agent', id='5f07a9ae-a06d-4655-9b7c-d0e029bf004d', tool_calls=[{'name': 'transfer_back_to_supervisor', 'args': {}, 'id': '35056cf6-11ab-4e08-b246-e8e82c33ada1', 'type': 'tool_call'}]),\n",
       "  ToolMessage(content='Successfully transferred back to supervisor', name='transfer_back_to_supervisor', id='6221779c-fdd9-4ef3-abc1-2c96acc66ea4', tool_call_id='35056cf6-11ab-4e08-b246-e8e82c33ada1'),\n",
       "  AIMessage(content='The transformer variants in production deployments include:\\n\\n1. **EfficientFormer**: Optimized for mobile inference.\\n2. **Reformer**: Tested for memory efficiency on embedded devices.\\n\\nAdditionally, Vision Transformers (ViT and Swin Transformer) and Speech Transformers (Wav2Vec 2.0) were also evaluated.\\n\\nAs for the math question, 5 plus 10 equals 15.', additional_kwargs={'refusal': None}, response_metadata={'token_usage': {'completion_tokens': 82, 'prompt_tokens': 752, 'total_tokens': 834, 'completion_tokens_details': {'accepted_prediction_tokens': 0, 'audio_tokens': 0, 'reasoning_tokens': 0, 'rejected_prediction_tokens': 0}, 'prompt_tokens_details': {'audio_tokens': 0, 'cached_tokens': 0}}, 'model_name': 'gpt-4o-mini-2024-07-18', 'system_fingerprint': 'fp_34a54ae93c', 'id': 'chatcmpl-C1vHA9qRcVvdHvIaT2Pt7BvQJowWv', 'service_tier': 'default', 'finish_reason': 'stop', 'logprobs': None}, name='supervisor', id='run--aa3177bd-279f-4494-93e4-dc2aad856579-0', usage_metadata={'input_tokens': 752, 'output_tokens': 82, 'total_tokens': 834, 'input_token_details': {'audio': 0, 'cache_read': 0}, 'output_token_details': {'audio': 0, 'reasoning': 0}})]}"
      ]
     },
     "execution_count": 26,
     "metadata": {},
     "output_type": "execute_result"
    }
   ],
   "source": [
    "response"
   ]
  },
  {
   "cell_type": "code",
   "execution_count": 27,
   "id": "3de08dc8",
   "metadata": {},
   "outputs": [
    {
     "data": {
      "text/plain": [
       "'The transformer variants in production deployments include:\\n\\n1. **EfficientFormer**: Optimized for mobile inference.\\n2. **Reformer**: Tested for memory efficiency on embedded devices.\\n\\nAdditionally, Vision Transformers (ViT and Swin Transformer) and Speech Transformers (Wav2Vec 2.0) were also evaluated.\\n\\nAs for the math question, 5 plus 10 equals 15.'"
      ]
     },
     "execution_count": 27,
     "metadata": {},
     "output_type": "execute_result"
    }
   ],
   "source": [
    "response[\"messages\"][-1].content"
   ]
  },
  {
   "cell_type": "markdown",
   "id": "d3d953f9",
   "metadata": {},
   "source": [
    "### Hierarchical Agent Teams With RAG\n",
    "In our previous example (Agent Supervisor), we introduced the concept of a single supervisor node to route work between different worker nodes.\n",
    "\n",
    "But what if the job for a single worker becomes too complex? What if the number of workers becomes too large?\n",
    "\n",
    "For some applications, the system may be more effective if work is distributed hierarchically.\n",
    "\n",
    "You can do this by composing different subgraphs and creating a top-level supervisor, along with mid-level supervisors."
   ]
  },
  {
   "cell_type": "code",
   "execution_count": 28,
   "id": "acb5b72c",
   "metadata": {},
   "outputs": [
    {
     "name": "stderr",
     "output_type": "stream",
     "text": [
      "USER_AGENT environment variable not set, consider setting it to identify your requests.\n"
     ]
    }
   ],
   "source": [
    "from typing import Annotated, List\n",
    "\n",
    "from langchain_community.document_loaders import WebBaseLoader\n",
    "from langchain_tavily import TavilySearch\n",
    "from langchain_core.tools import tool\n",
    "\n",
    "tavily_tool = TavilySearch(max_results=5)"
   ]
  },
  {
   "cell_type": "code",
   "execution_count": 29,
   "id": "d2a3919e",
   "metadata": {},
   "outputs": [],
   "source": [
    "@tool\n",
    "def scrape_webpages(urls:List[str])->str:\n",
    "    \"\"\"Use requests and bs4 to scrape the provided web pages for detailed information.\"\"\"\n",
    "    loader = WebBaseLoader(urls)\n",
    "    docs = loader.load()\n",
    "    return \"\\n\\n\".join(\n",
    "        [\n",
    "            f'<Document name=\"{doc.metadata.get(\"title\", \"\")}\">\\n{doc.page_content}\\n</Document>'\n",
    "            for doc in docs\n",
    "        ]\n",
    "    )\n"
   ]
  },
  {
   "cell_type": "code",
   "execution_count": 30,
   "id": "149d4fae",
   "metadata": {},
   "outputs": [],
   "source": [
    "from pathlib import Path\n",
    "from tempfile import TemporaryDirectory\n",
    "from typing import Dict, Optional\n",
    "\n",
    "from langchain_experimental.utilities import PythonREPL\n",
    "from typing_extensions import TypedDict\n",
    "\n",
    "_TEMP_DIRECTORY = TemporaryDirectory()\n",
    "WORKING_DIRECTORY = Path(_TEMP_DIRECTORY.name)\n",
    "\n",
    "@tool\n",
    "def create_outline(\n",
    "    points: Annotated[List[str], \"List of main points or sections.\"],\n",
    "    file_name: Annotated[str, \"File path to save the outline.\"],\n",
    ") -> Annotated[str, \"Path of the saved outline file.\"]:\n",
    "    \"\"\"Create and save an outline.\"\"\"\n",
    "    with (WORKING_DIRECTORY / file_name).open(\"w\") as file:\n",
    "        for i, point in enumerate(points):\n",
    "            file.write(f\"{i + 1}. {point}\\n\")\n",
    "    return f\"Outline saved to {file_name}\"\n",
    "\n",
    "@tool\n",
    "def write_document(\n",
    "    content: Annotated[str, \"Text content to be written into the document.\"],\n",
    "    file_name: Annotated[str, \"File path to save the document.\"],\n",
    ") -> Annotated[str, \"Path of the saved document file.\"]:\n",
    "    \"\"\"Create and save a text document.\"\"\"\n",
    "    with (WORKING_DIRECTORY / file_name).open(\"w\") as file:\n",
    "        file.write(content)\n",
    "    return f\"Document saved to {file_name}\"\n",
    "\n",
    "@tool\n",
    "def edit_document(\n",
    "    file_name: Annotated[str, \"Path of the document to be edited.\"],\n",
    "    inserts: Annotated[\n",
    "        Dict[int, str],\n",
    "        \"Dictionary where key is the line number (1-indexed) and value is the text to be inserted at that line.\",\n",
    "    ],\n",
    ") -> Annotated[str, \"Path of the edited document file.\"]:\n",
    "    \"\"\"Edit a document by inserting text at specific line numbers.\"\"\"\n",
    "\n",
    "    with (WORKING_DIRECTORY / file_name).open(\"r\") as file:\n",
    "        lines = file.readlines()\n",
    "\n",
    "    sorted_inserts = sorted(inserts.items())\n",
    "\n",
    "    for line_number, text in sorted_inserts:\n",
    "        if 1 <= line_number <= len(lines) + 1:\n",
    "            lines.insert(line_number - 1, text + \"\\n\")\n",
    "        else:\n",
    "            return f\"Error: Line number {line_number} is out of range.\"\n",
    "\n",
    "    with (WORKING_DIRECTORY / file_name).open(\"w\") as file:\n",
    "        file.writelines(lines)\n",
    "\n",
    "    return f\"Document edited and saved to {file_name}\""
   ]
  },
  {
   "cell_type": "code",
   "execution_count": 48,
   "id": "ee39e731",
   "metadata": {},
   "outputs": [
    {
     "data": {
      "text/plain": [
       "WindowsPath('C:/Users/win10/AppData/Local/Temp/tmpph59kwgq')"
      ]
     },
     "execution_count": 48,
     "metadata": {},
     "output_type": "execute_result"
    }
   ],
   "source": [
    "WORKING_DIRECTORY"
   ]
  },
  {
   "cell_type": "code",
   "execution_count": 31,
   "id": "6ef30926",
   "metadata": {},
   "outputs": [],
   "source": [
    "# Warning: This executes code locally, which can be unsafe when not sandboxed\n",
    "\n",
    "repl = PythonREPL()\n",
    "\n",
    "\n",
    "@tool\n",
    "def python_repl_tool(\n",
    "    code: Annotated[str, \"The python code to execute to generate your chart.\"],\n",
    "):\n",
    "    \"\"\"Use this to execute python code. If you want to see the output of a value,\n",
    "    you should print it out with `print(...)`. This is visible to the user.\"\"\"\n",
    "    try:\n",
    "        result = repl.run(code)\n",
    "    except BaseException as e:\n",
    "        return f\"Failed to execute. Error: {repr(e)}\"\n",
    "    return f\"Successfully executed:\\n```python\\n{code}\\n```\\nStdout: {result}\""
   ]
  },
  {
   "cell_type": "code",
   "execution_count": 32,
   "id": "17860413",
   "metadata": {},
   "outputs": [],
   "source": [
    "from typing import List, Optional, Literal\n",
    "from langchain_core.language_models.chat_models import BaseChatModel\n",
    "\n",
    "from langgraph.graph import StateGraph, MessagesState, START, END\n",
    "from langgraph.types import Command\n",
    "from langchain_core.messages import HumanMessage, trim_messages\n",
    "\n",
    "\n",
    "class State(MessagesState):\n",
    "    next: str"
   ]
  },
  {
   "cell_type": "code",
   "execution_count": 33,
   "id": "eae8537f",
   "metadata": {},
   "outputs": [],
   "source": [
    "def make_supervisor_node(llm: BaseChatModel, members: list[str]) -> str:\n",
    "    options = [\"FINISH\"] + members\n",
    "    system_prompt = (\n",
    "        \"You are a supervisor tasked with managing a conversation between the\"\n",
    "        f\" following workers: {members}. Given the following user request,\"\n",
    "        \" respond with the worker to act next. Each worker will perform a\"\n",
    "        \" task and respond with their results and status. When finished,\"\n",
    "        \" respond with FINISH.\"\n",
    "    )\n",
    "\n",
    "    class Router(TypedDict):\n",
    "        \"\"\"Worker to route to next. If no workers needed, route to FINISH.\"\"\"\n",
    "\n",
    "        next: Literal[*options]\n",
    "\n",
    "    def supervisor_node(state: State) -> Command[Literal[*members, \"__end__\"]]:\n",
    "        \"\"\"An LLM-based router.\"\"\"\n",
    "        messages = [\n",
    "            {\"role\": \"system\", \"content\": system_prompt},\n",
    "        ] + state[\"messages\"]\n",
    "        response = llm.with_structured_output(Router).invoke(messages)\n",
    "        goto = response[\"next\"]\n",
    "        if goto == \"FINISH\":\n",
    "            goto = END\n",
    "\n",
    "        return Command(goto=goto, update={\"next\": goto})\n",
    "\n",
    "    return supervisor_node"
   ]
  },
  {
   "cell_type": "code",
   "execution_count": 34,
   "id": "eff44a0e",
   "metadata": {},
   "outputs": [
    {
     "data": {
      "text/plain": [
       "Tool(name='InternalResearchNotes', description='Search internal research notes for experimental results', func=<function make_retriever_tool_from_text.<locals>.tool_func at 0x00000238B4055E40>)"
      ]
     },
     "execution_count": 34,
     "metadata": {},
     "output_type": "execute_result"
    }
   ],
   "source": [
    "internal_tool_1"
   ]
  },
  {
   "cell_type": "code",
   "execution_count": 37,
   "id": "729557d8",
   "metadata": {},
   "outputs": [],
   "source": [
    "from langchain_core.messages import HumanMessage\n",
    "from langchain_openai import ChatOpenAI\n",
    "from langgraph.prebuilt import create_react_agent\n",
    "\n",
    "\n",
    "\n",
    "search_agent = create_react_agent(llm, tools=[tavily_tool,internal_tool_1])\n",
    "search_agent\n",
    "\n",
    "def search_node(state: State) -> Command[Literal[\"supervisor\"]]:\n",
    "    result = search_agent.invoke(state)\n",
    "    return Command(\n",
    "        update={\n",
    "            \"messages\": [\n",
    "                HumanMessage(content=result[\"messages\"][-1].content, name=\"search\")\n",
    "            ]\n",
    "        },\n",
    "        # We want our workers to ALWAYS \"report back\" to the supervisor when done\n",
    "        goto=\"supervisor\",\n",
    "    )\n",
    "\n",
    "### sub agent\n",
    "web_scraper_agent = create_react_agent(llm, tools=[scrape_webpages])\n",
    "\n",
    "\n",
    "def web_scraper_node(state: State) -> Command[Literal[\"supervisor\"]]:\n",
    "    result = web_scraper_agent.invoke(state)\n",
    "    return Command(\n",
    "        update={\n",
    "            \"messages\": [\n",
    "                HumanMessage(content=result[\"messages\"][-1].content, name=\"web_scraper\")\n",
    "            ]\n",
    "        },\n",
    "        # We want our workers to ALWAYS \"report back\" to the supervisor when done\n",
    "        goto=\"supervisor\",\n",
    "    )"
   ]
  },
  {
   "cell_type": "code",
   "execution_count": 38,
   "id": "91d88c3e",
   "metadata": {},
   "outputs": [
    {
     "data": {
      "text/plain": [
       "<function __main__.make_supervisor_node.<locals>.supervisor_node(state: __main__.State) -> langgraph.types.Command[typing.Literal['search', 'web_scraper', '__end__']]>"
      ]
     },
     "execution_count": 38,
     "metadata": {},
     "output_type": "execute_result"
    }
   ],
   "source": [
    "research_supervisor_node = make_supervisor_node(llm, [\"search\", \"web_scraper\"])\n",
    "research_supervisor_node"
   ]
  },
  {
   "cell_type": "code",
   "execution_count": 39,
   "id": "da0b9a92",
   "metadata": {},
   "outputs": [
    {
     "data": {
      "image/png": "[encoded data removed]",
      "text/plain": [
       "<langgraph.graph.state.CompiledStateGraph object at 0x00000238F8821810>"
      ]
     },
     "execution_count": 39,
     "metadata": {},
     "output_type": "execute_result"
    }
   ],
   "source": [
    "research_builder = StateGraph(State)\n",
    "research_builder.add_node(\"supervisor\", research_supervisor_node)\n",
    "research_builder.add_node(\"search\", search_node)\n",
    "research_builder.add_node(\"web_scraper\", web_scraper_node)\n",
    "\n",
    "research_builder.add_edge(START, \"supervisor\")\n",
    "research_graph = research_builder.compile()\n",
    "research_graph"
   ]
  },
  {
   "cell_type": "code",
   "execution_count": 40,
   "id": "2a4356ac",
   "metadata": {},
   "outputs": [],
   "source": [
    "@tool\n",
    "def read_document(\n",
    "    file_name: Annotated[str, \"File path to read the document from.\"],\n",
    "    start: Annotated[Optional[int], \"The start line. Default is 0\"] = None,\n",
    "    end: Annotated[Optional[int], \"The end line. Default is None\"] = None,\n",
    ") -> str:\n",
    "    \"\"\"Read the specified document.\"\"\"\n",
    "    with (WORKING_DIRECTORY / file_name).open(\"r\") as file:\n",
    "        lines = file.readlines()\n",
    "    if start is None:\n",
    "        start = 0\n",
    "    return \"\\n\".join(lines[start:end])"
   ]
  },
  {
   "cell_type": "code",
   "execution_count": 41,
   "id": "8ca354a5",
   "metadata": {},
   "outputs": [],
   "source": [
    "doc_writer_agent = create_react_agent(\n",
    "    llm,\n",
    "    tools=[write_document, edit_document, read_document],\n",
    "    prompt=(\n",
    "        \"You can read, write and edit documents based on note-taker's outlines. \"\n",
    "        \"Don't ask follow-up questions.\"\n",
    "    ),\n",
    ")\n",
    "\n",
    "\n",
    "def doc_writing_node(state: State) -> Command[Literal[\"supervisor\"]]:\n",
    "    result = doc_writer_agent.invoke(state)\n",
    "    return Command(\n",
    "        update={\n",
    "            \"messages\": [\n",
    "                HumanMessage(content=result[\"messages\"][-1].content, name=\"doc_writer\")\n",
    "            ]\n",
    "        },\n",
    "        # We want our workers to ALWAYS \"report back\" to the supervisor when done\n",
    "        goto=\"supervisor\",\n",
    "    )\n",
    "\n",
    "note_taking_agent = create_react_agent(\n",
    "    llm,\n",
    "    tools=[create_outline, read_document],\n",
    "    prompt=(\n",
    "        \"You can read documents and create outlines for the document writer. \"\n",
    "        \"Don't ask follow-up questions.\"\n",
    "    ),\n",
    ")\n",
    "\n",
    "\n",
    "def note_taking_node(state: State) -> Command[Literal[\"supervisor\"]]:\n",
    "    result = note_taking_agent.invoke(state)\n",
    "    return Command(\n",
    "        update={\n",
    "            \"messages\": [\n",
    "                HumanMessage(content=result[\"messages\"][-1].content, name=\"note_taker\")\n",
    "            ]\n",
    "        },\n",
    "        # We want our workers to ALWAYS \"report back\" to the supervisor when done\n",
    "        goto=\"supervisor\",\n",
    "    )\n",
    "\n",
    "\n",
    "chart_generating_agent = create_react_agent(\n",
    "    llm, tools=[read_document, python_repl_tool]\n",
    ")\n",
    "\n",
    "\n",
    "def chart_generating_node(state: State) -> Command[Literal[\"supervisor\"]]:\n",
    "    result = chart_generating_agent.invoke(state)\n",
    "    return Command(\n",
    "        update={\n",
    "            \"messages\": [\n",
    "                HumanMessage(\n",
    "                    content=result[\"messages\"][-1].content, name=\"chart_generator\"\n",
    "                )\n",
    "            ]\n",
    "        },\n",
    "        # We want our workers to ALWAYS \"report back\" to the supervisor when done\n",
    "        goto=\"supervisor\",\n",
    "    )\n",
    "\n",
    "doc_writing_supervisor_node = make_supervisor_node(\n",
    "    llm, [\"doc_writer\", \"note_taker\", \"chart_generator\"])"
   ]
  },
  {
   "cell_type": "code",
   "execution_count": 42,
   "id": "e2c85b27",
   "metadata": {},
   "outputs": [
    {
     "data": {
      "image/png": "[encoded data removed]",
      "text/plain": [
       "<langgraph.graph.state.CompiledStateGraph object at 0x00000238F88215B0>"
      ]
     },
     "execution_count": 42,
     "metadata": {},
     "output_type": "execute_result"
    }
   ],
   "source": [
    "# Create the graph here\n",
    "paper_writing_builder = StateGraph(State)\n",
    "paper_writing_builder.add_node(\"supervisor\", doc_writing_supervisor_node)\n",
    "paper_writing_builder.add_node(\"doc_writer\", doc_writing_node)\n",
    "paper_writing_builder.add_node(\"note_taker\", note_taking_node)\n",
    "paper_writing_builder.add_node(\"chart_generator\", chart_generating_node)\n",
    "\n",
    "paper_writing_builder.add_edge(START, \"supervisor\")\n",
    "paper_writing_graph = paper_writing_builder.compile()\n",
    "paper_writing_graph"
   ]
  },
  {
   "cell_type": "code",
   "execution_count": 43,
   "id": "f9b2bd7d",
   "metadata": {},
   "outputs": [
    {
     "data": {
      "text/plain": [
       "<function __main__.make_supervisor_node.<locals>.supervisor_node(state: __main__.State) -> langgraph.types.Command[typing.Literal['research_team', 'writing_team', '__end__']]>"
      ]
     },
     "execution_count": 43,
     "metadata": {},
     "output_type": "execute_result"
    }
   ],
   "source": [
    "from langchain_core.messages import BaseMessage\n",
    "teams_supervisor_node = make_supervisor_node(llm, [\"research_team\", \"writing_team\"])\n",
    "teams_supervisor_node"
   ]
  },
  {
   "cell_type": "code",
   "execution_count": 44,
   "id": "e2ac4ee3",
   "metadata": {},
   "outputs": [
    {
     "data": {
      "image/png": "[encoded data removed]",
      "text/plain": [
       "<langgraph.graph.state.CompiledStateGraph object at 0x00000238F88208A0>"
      ]
     },
     "execution_count": 44,
     "metadata": {},
     "output_type": "execute_result"
    }
   ],
   "source": [
    "def call_research_team(state: State) -> Command[Literal[\"supervisor\"]]:\n",
    "    response = research_graph.invoke({\"messages\": state[\"messages\"][-1]})\n",
    "    return Command(\n",
    "        update={\n",
    "            \"messages\": [\n",
    "                HumanMessage(\n",
    "                    content=response[\"messages\"][-1].content, name=\"research_team\"\n",
    "                )\n",
    "            ]\n",
    "        },\n",
    "        goto=\"supervisor\",\n",
    "    )\n",
    "\n",
    "\n",
    "def call_paper_writing_team(state: State) -> Command[Literal[\"supervisor\"]]:\n",
    "    response = paper_writing_graph.invoke({\"messages\": state[\"messages\"][-1]})\n",
    "    return Command(\n",
    "        update={\n",
    "            \"messages\": [\n",
    "                HumanMessage(\n",
    "                    content=response[\"messages\"][-1].content, name=\"writing_team\"\n",
    "                )\n",
    "            ]\n",
    "        },\n",
    "        goto=\"supervisor\",\n",
    "    )\n",
    "\n",
    "\n",
    "# Define the graph.\n",
    "super_builder = StateGraph(State)\n",
    "super_builder.add_node(\"supervisor\", teams_supervisor_node)\n",
    "super_builder.add_node(\"research_team\", call_research_team)\n",
    "super_builder.add_node(\"writing_team\", call_paper_writing_team)\n",
    "\n",
    "super_builder.add_edge(START, \"supervisor\")\n",
    "super_graph = super_builder.compile()\n",
    "super_graph"
   ]
  },
  {
   "cell_type": "code",
   "execution_count": 45,
   "id": "3cf659d3",
   "metadata": {},
   "outputs": [],
   "source": [
    "response=super_graph.invoke(\n",
    "    {\n",
    "        \"messages\": [\n",
    "            (\"user\", \"Write about transformer variants in production deployments.\")\n",
    "        ],\n",
    "    })"
   ]
  },
  {
   "cell_type": "code",
   "execution_count": 46,
   "id": "3788d59b",
   "metadata": {},
   "outputs": [
    {
     "data": {
      "text/plain": [
       "{'messages': [HumanMessage(content='Write about transformer variants in production deployments.', additional_kwargs={}, response_metadata={}, id='12209b55-a84b-4610-a35c-10d2447bbbe8'),\n",
       "  HumanMessage(content=\"## Transformer Variants in Production Deployments\\n\\nTransformers have significantly changed how machine learning is applied, particularly in natural language processing (NLP) and computer vision. Numerous transformer variants have been developed, each tailored for specific tasks and conditions. Familiarity with these variants can enhance efficiency and effectiveness in production deployments.\\n\\n### Common Transformer Variants\\n\\n1. **BERT (Bidirectional Encoder Representations from Transformers)**:\\n   - **Use Case**: BERT excels in sentiment analysis, question answering, and tasks requiring contextual understanding. Its bi-directional processing considers words' contexts from both sides.\\n\\n2. **GPT (Generative Pre-trained Transformer)**:\\n   - **Use Case**: GPT models, such as ChatGPT, specialize in text generation and completion. Their architecture is typically decoder-only, aligning them with conversational AI applications.\\n\\n3. **Transformer-XL**:\\n   - **Use Case**: This variant adeptly handles long-range dependencies, making it suitable for tasks requiring broader narrative understanding through recurrence mechanisms.\\n\\n4. **Longformer**:\\n   - **Use Case**: Longformer uses a sparse attention mechanism for processing long documents, making it ideal for summarization and analysis of extensive texts.\\n\\n5. **Performer**:\\n   - **Use Case**: Optimized for efficiency, Performer applies kernelized attention, reducing overall computational demand, which is vital for real-time applications where rapid predictions are necessary.\\n\\n### Deployment Considerations\\n\\n1. **Infrastructure**:\\n   - Platforms like Amazon Web Services (AWS) and Google Cloud Platform provide necessary infrastructures, particularly GPU services for handling transformer model demands. Hugging Face also offers Inference Endpoints that facilitate easy deployment.\\n\\n2. **Efficiency**:\\n   - Variants like the Performer are particularly useful for resource-constrained environments, offering faster inference and reduced resource spikes, which can be beneficial in specific deployment cases.\\n\\n3. **Integration**:\\n   - Swift integration is crucial for production deployments. Tools like Docker and serverless architectures can streamline deployment processes, making model management more efficient and scalable.\\n\\n### Practical Deployment Insights\\n\\nDeploying transformer models does not have to be complex. Modern tools have made the process accessible, and a typical deployment workflow can include:\\n\\n- **Choosing a Model**: Utilize resource libraries like Hugging Face to select a pre-trained model.\\n  \\n- **Building an API**: Wrap your transformer model in a web framework (e.g., Flask) to handle prediction requests, ensuring it has both health check and inference endpoints.\\n\\n- **Containerizing the Application**: Use Docker to package the application and its dependencies, ensuring consistent environments across development and production.\\n\\n- **Deployment to Cloud Services**: Use services like AWS SageMaker, which supports Docker, to deploy your models efficiently while handling scalability and manageability.\\n\\n#### Example Deployment Process\\n\\n1. **Setup**: Frameworks like Flask are used to set up endpoints for your model. Key endpoints include a health check (`/ping`) and an inference endpoint (`/invocations`).\\n\\n2. **Dockerizing**: Containers encapsulate your application with a Dockerfile that specifies runtime configurations and dependencies.\\n\\n3. **Pushing to Cloud**: After building your Docker container, push it to a container registry like AWS ECR, and use AWS SageMaker for deployment, ensuring it can handle the expected workload.\\n\\n4. **Testing**: After deployment, confirm the model's functionality with test scripts, allowing for validations of the inference results against expected outputs.\\n\\nThese steps encapsulate a high-level overview of efficiently deploying transformer-based systems suitable for various applications, ensuring rigorous performance and scalability in production environments.\\n\\nFor more comprehensive guides and code samples, consult resources such as [HackerNoon](https://hackernoon.com/deploying-transformers-in-production-simpler-than-you-think).\", additional_kwargs={}, response_metadata={}, name='research_team', id='44ad42b1-20d1-4a38-895b-5e058638e7ce'),\n",
       "  HumanMessage(content='The document \"Transformer Variants in Production Deployments\" and its outline have been successfully created and saved. If you need any further modifications or additional content, feel free to ask!', additional_kwargs={}, response_metadata={}, name='writing_team', id='561d3a98-171b-4e04-aa20-31a721f557a9')],\n",
       " 'next': '__end__'}"
      ]
     },
     "execution_count": 46,
     "metadata": {},
     "output_type": "execute_result"
    }
   ],
   "source": [
    "response"
   ]
  },
  {
   "cell_type": "code",
   "execution_count": 47,
   "id": "58d3e75f",
   "metadata": {},
   "outputs": [
    {
     "data": {
      "text/plain": [
       "'The document \"Transformer Variants in Production Deployments\" and its outline have been successfully created and saved. If you need any further modifications or additional content, feel free to ask!'"
      ]
     },
     "execution_count": 47,
     "metadata": {},
     "output_type": "execute_result"
    }
   ],
   "source": [
    "response[\"messages\"][-1].content"
   ]
  },
  {
   "cell_type": "code",
   "execution_count": null,
   "id": "a8535bed",
   "metadata": {},
   "outputs": [],
   "source": []
  },
  {
   "cell_type": "code",
   "execution_count": null,
   "id": "8902d3bc",
   "metadata": {},
   "outputs": [],
   "source": []
  },
  {
   "cell_type": "code",
   "execution_count": null,
   "id": "ea0caf75",
   "metadata": {},
   "outputs": [],
   "source": []
  }
 ],
 "metadata": {
  "kernelspec": {
   "display_name": "RAGUdemy",
   "language": "python",
   "name": "python3"
  },
  "language_info": {
   "codemirror_mode": {
    "name": "ipython",
    "version": 3
   },
   "file_extension": ".py",
   "mimetype": "text/x-python",
   "name": "python",
   "nbconvert_exporter": "python",
   "pygments_lexer": "ipython3",
   "version": "3.13.2"
  }
 },
 "nbformat": 4,
 "nbformat_minor": 5
}
