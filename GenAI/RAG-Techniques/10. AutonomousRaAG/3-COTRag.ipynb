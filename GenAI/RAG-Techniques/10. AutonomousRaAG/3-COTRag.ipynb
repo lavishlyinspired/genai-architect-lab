{
 "cells": [
  {
   "cell_type": "markdown",
   "id": "cb44e558",
   "metadata": {},
   "source": [
    "#### Chain Of Thoughts With RAG\n",
    "What is Chain-of-Thought (CoT) in RAG?\n",
    "\n",
    "CoT reasoning breaks down a complex question into intermediate steps, and allows retrieval + reflection at each step before answering.\n",
    "\n",
    "User Query\n",
    "   ↓\n",
    "- Step 1: Decompose question → sub-steps (Reason)\n",
    "- Step 2: Retrieve docs per step (Act)\n",
    "- Step 3: Combine context (Observe)\n",
    "- Step 4: Final answer generation (Reflect)"
   ]
  },
  {
   "cell_type": "code",
   "execution_count": 1,
   "id": "d1cb1a18",
   "metadata": {},
   "outputs": [],
   "source": [
    "import os\n",
    "from typing import List\n",
    "from pydantic import BaseModel\n",
    "from langchain.schema import Document\n",
    "from langchain_openai import OpenAIEmbeddings\n",
    "from langchain_community.document_loaders import TextLoader\n",
    "from langchain.vectorstores import FAISS\n",
    "from langchain.text_splitter import RecursiveCharacterTextSplitter\n",
    "from langgraph.graph import StateGraph, END"
   ]
  },
  {
   "cell_type": "code",
   "execution_count": 2,
   "id": "742cd685",
   "metadata": {},
   "outputs": [],
   "source": [
    "# -------------------------------\n",
    "# 1. Prepare Vectorstore\n",
    "# -------------------------------\n",
    "docs = TextLoader(\"research_notes.txt\",encoding=\"utf-8\").load()\n",
    "splitter = RecursiveCharacterTextSplitter(chunk_size=500, chunk_overlap=50)\n",
    "chunks = splitter.split_documents(docs)\n",
    "embedding = OpenAIEmbeddings()\n",
    "vectorstore = FAISS.from_documents(chunks, embedding)\n",
    "retriever = vectorstore.as_retriever()"
   ]
  },
  {
   "cell_type": "code",
   "execution_count": 3,
   "id": "881c7baf",
   "metadata": {},
   "outputs": [],
   "source": [
    "import os\n",
    "from langchain.chat_models import init_chat_model\n",
    "from dotenv import load_dotenv\n",
    "os.environ[\"OPENAI_API_KEY\"]=os.getenv(\"OPENAI_API_KEY\")\n",
    "llm=init_chat_model(\"openai:gpt-4o\")"
   ]
  },
  {
   "cell_type": "code",
   "execution_count": 4,
   "id": "bd17f2a0",
   "metadata": {},
   "outputs": [],
   "source": [
    "# -------------------------------\n",
    "# 2. LangGraph State Definition\n",
    "# -------------------------------\n",
    "class RAGCoTState(BaseModel):\n",
    "    question: str\n",
    "    sub_steps: List[str] = []\n",
    "    retrieved_docs: List[Document] = []\n",
    "    answer: str = \"\""
   ]
  },
  {
   "cell_type": "code",
   "execution_count": 5,
   "id": "454347b4",
   "metadata": {},
   "outputs": [],
   "source": [
    "# -------------------------------\n",
    "# 3. Nodes\n",
    "# -------------------------------\n",
    "\n",
    "# a. Plan sub-questions\n",
    "def plan_steps(state:RAGCoTState)->RAGCoTState:\n",
    "    prompt=f\"Break the question into 2-3 reasoning steps: \\n\\n {state.question}\"\n",
    "    result=llm.invoke(prompt).content\n",
    "    subqs=[line.strip(\"- \") for line in result.split(\"\\n\") if line.strip()]\n",
    "\n",
    "    return state.model_copy(update={\"sub_steps\":subqs})\n"
   ]
  },
  {
   "cell_type": "code",
   "execution_count": 6,
   "id": "e0e99b9f",
   "metadata": {},
   "outputs": [],
   "source": [
    "# b. Retrieve for each step\n",
    "def retrieve_per_step(state:RAGCoTState)-> RAGCoTState:\n",
    "    all_docs=[]\n",
    "    for sub in state.sub_steps:\n",
    "        docs = retriever.invoke(sub)\n",
    "        all_docs.extend(docs)\n",
    "    return state.model_copy(update={\"retrieved_docs\": all_docs})\n"
   ]
  },
  {
   "cell_type": "code",
   "execution_count": 7,
   "id": "285a8a19",
   "metadata": {},
   "outputs": [],
   "source": [
    "# c. Generate Final Answer\n",
    "def generate_answer(state: RAGCoTState) -> RAGCoTState:\n",
    "    \n",
    "    context = \"\\n\\n\".join([doc.page_content for doc in state.retrieved_docs])\n",
    "    prompt = f\"\"\"\n",
    "You are answering a complex question using reasoning and retrieved documents.\n",
    "\n",
    "Question: {state.question}\n",
    "\n",
    "Relevant Information:\n",
    "{context}\n",
    "\n",
    "Now synthesize a well-reasoned final answer.\n",
    "\"\"\"\n",
    "    result = llm.invoke(prompt).content.strip()\n",
    "    return state.model_copy(update={\"answer\": result})"
   ]
  },
  {
   "cell_type": "code",
   "execution_count": 8,
   "id": "2e382179",
   "metadata": {},
   "outputs": [
    {
     "data": {
      "image/png": "[encoded data removed]",
      "text/plain": [
       "<langgraph.graph.state.CompiledStateGraph object at 0x000001D8007FB770>"
      ]
     },
     "execution_count": 8,
     "metadata": {},
     "output_type": "execute_result"
    }
   ],
   "source": [
    "# -------------------------------\n",
    "# 4. LangGraph Graph\n",
    "# -------------------------------\n",
    "builder = StateGraph(RAGCoTState)\n",
    "builder.add_node(\"planner\", plan_steps)\n",
    "builder.add_node(\"retriever\", retrieve_per_step)\n",
    "builder.add_node(\"responder\", generate_answer)\n",
    "\n",
    "builder.set_entry_point(\"planner\")\n",
    "builder.add_edge(\"planner\", \"retriever\")\n",
    "builder.add_edge(\"retriever\", \"responder\")\n",
    "builder.add_edge(\"responder\", END)\n",
    "\n",
    "graph = builder.compile()\n",
    "graph"
   ]
  },
  {
   "cell_type": "code",
   "execution_count": 9,
   "id": "b6b197df",
   "metadata": {},
   "outputs": [
    {
     "name": "stdout",
     "output_type": "stream",
     "text": [
      "\n",
      "🪜 Reasoning Steps: ['To determine additional experiments in Transformer evaluation, you can break it down into the following reasoning steps:', '1. **Identify Key Evaluation Areas:**', 'Consider the fundamental aspects of Transformer models that merit evaluation, such as accuracy, efficiency, robustness, and interpretability.', 'Think about any limitations or areas where traditional evaluations may fall short and require more insight.', '2. **Design Experiment Categories:**', 'Determine the types of additional experiments that could address these areas. This may include stress-testing for robustness, probing experiments for understanding model internals, efficiency evaluations with various hardware settings, or fairness assessments to see if the model is biased.', '3. **Refine and Specify Experiments:**', 'For each category, outline specific experiments. For instance, you might design adversarial testing experiments to test robustness or efficiency benchmarks across different computational resources. Consider using ablation studies to understand the contribution of individual components of the Transformer architecture to overall performance.', 'By following these steps, you can develop a comprehensive set of additional experiments to effectively evaluate the capabilities and limitations of Transformer models.']\n",
      "\n",
      "✅ Final Answer:\n",
      " The \"additional experiments\" in the Transformer evaluation from the provided logs include several innovative approaches and techniques aimed at enhancing various aspects of model performance and practical deployment. Here’s an overview of these experiments:\n",
      "\n",
      "1. **FlashAttention2**: This was integrated into LLaMA2 and significantly reduced context latency by approximately 50%. This improvement focuses on the efficiency of attentional computations, crucial for speeding up model inference times.\n",
      "\n",
      "2. **Chain-of-Thought Prompting**: This method was shown to outperform direct answer prompting by 8% on logical tasks, and an additional form called reflective prompting increased accuracy by another 3%. It indicates the potential of structured thinking patterns in improving model reasoning abilities.\n",
      "\n",
      "3. **Tool-Augmented Prompting**: This involves integrating LangGraph, Wikipedia, and SQL search to enable dynamic retrieval-agent reasoning. The setup facilitates advanced information retrieval and verification processes, as exemplified by a scenario requiring customer insights from SQL with verification using Wikipedia.\n",
      "\n",
      "4. **Human Evaluation Protocol**: Involved internal annotators who assessed fluency, helpfulness, and correctness, complemented by GPT-4 as a synthetic evaluator. This highlights a multi-faceted approach for reliable evaluation, combining human insights and AI processing.\n",
      "\n",
      "5. **Retrieval Experiments**: These combined hybrid dense and sparse retrievers, with testing conducted between Weaviate and FAISS + BM25 reranking. The outcome suggested FAISS was more efficient but had slightly lower recall, while Weaviate's integration with GraphQL proved beneficial for content filtering.\n",
      "\n",
      "6. **LoRA Tuning**: Leveraging low-rank adaptation for model fine-tuning, this approach reduced GPU memory requirements by 60% while maintaining compatibility with the PEFT library. This highlights an efficiency improvement in resource usage during model adaptation.\n",
      "\n",
      "7. **Safety**: Experiments here included using Detoxify for toxicity detection, zero-shot classifiers for filtering out-of-scope responses, and adversarial prompt testing (red teaming). These are geared toward enhancing model safety and robustness, especially in producing non-harmful content.\n",
      "\n",
      "These additional experiments illustrate an ongoing commitment to improving transformer models' accuracy, efficiency, retrieval capabilities, safety, and evaluation methods, reflecting a comprehensive approach to advancing AI technology.\n"
     ]
    }
   ],
   "source": [
    "# -------------------------------\n",
    "# 5. Run CoT RAG Agent\n",
    "# -------------------------------\n",
    "if __name__ == \"__main__\":\n",
    "    query = \"what are the additional eperiments in Transformer eveluation?\"\n",
    "    state = RAGCoTState(question=query)\n",
    "    final = graph.invoke(state)\n",
    "\n",
    "    print(\"\\n🪜 Reasoning Steps:\", final[\"sub_steps\"])\n",
    "    print(\"\\n✅ Final Answer:\\n\", final[\"answer\"])"
   ]
  },
  {
   "cell_type": "code",
   "execution_count": null,
   "id": "1c310afd",
   "metadata": {},
   "outputs": [],
   "source": []
  }
 ],
 "metadata": {
  "kernelspec": {
   "display_name": "RAGUdemy",
   "language": "python",
   "name": "python3"
  },
  "language_info": {
   "codemirror_mode": {
    "name": "ipython",
    "version": 3
   },
   "file_extension": ".py",
   "mimetype": "text/x-python",
   "name": "python",
   "nbconvert_exporter": "python",
   "pygments_lexer": "ipython3",
   "version": "3.13.2"
  }
 },
 "nbformat": 4,
 "nbformat_minor": 5
}
