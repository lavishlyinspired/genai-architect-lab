{
 "cells": [
  {
   "cell_type": "markdown",
   "id": "f7172573",
   "metadata": {},
   "source": [
    "### 🤖 Implement ReAct with LangGraph-What is ReAct?\n",
    "ReAct (Reasoning + Acting) is a framework where an LLM:\n",
    "\n",
    "- Reasons step-by-step (e.g. decomposes questions, makes decisions)\n",
    "\n",
    "- Acts by calling tools like search, calculators, or retrievers\n",
    "\n",
    "This makes it perfect for Agentic RAG:\n",
    "✅ Think → Retrieve → Observe → Reflect → Final Answer"
   ]
  },
  {
   "cell_type": "code",
   "execution_count": 1,
   "id": "325681f3",
   "metadata": {},
   "outputs": [
    {
     "name": "stderr",
     "output_type": "stream",
     "text": [
      "USER_AGENT environment variable not set, consider setting it to identify your requests.\n"
     ]
    }
   ],
   "source": [
    "import os\n",
    "from langgraph.prebuilt import create_react_agent\n",
    "from langchain.agents import Tool\n",
    "from langchain.tools import WikipediaQueryRun\n",
    "from langchain.utilities import WikipediaAPIWrapper\n",
    "from langchain_community.vectorstores import FAISS\n",
    "from langchain_openai import OpenAIEmbeddings\n",
    "from langchain_community.document_loaders import WebBaseLoader\n",
    "from langchain.text_splitter import RecursiveCharacterTextSplitter\n",
    "from langgraph.graph import END\n",
    "from langgraph.graph import StateGraph\n",
    "from typing import Annotated, TypedDict, Sequence\n",
    "from langchain_core.messages import BaseMessage, HumanMessage, AIMessage\n",
    "from langgraph.graph.message import add_messages"
   ]
  },
  {
   "cell_type": "code",
   "execution_count": 2,
   "id": "a362be75",
   "metadata": {},
   "outputs": [],
   "source": [
    "# --------------------------\n",
    "# 1. Create Retriever Tool\n",
    "# --------------------------\n",
    "\n",
    "# Load content from blog\n",
    "docs = WebBaseLoader(\"https://lilianweng.github.io/posts/2023-06-23-agent/\").load()\n",
    "splitter = RecursiveCharacterTextSplitter(chunk_size=500, chunk_overlap=50)\n",
    "chunks = splitter.split_documents(docs)\n",
    "\n",
    "embedding = OpenAIEmbeddings()\n",
    "vectorstore = FAISS.from_documents(chunks, embedding)\n",
    "retriever = vectorstore.as_retriever()"
   ]
  },
  {
   "cell_type": "code",
   "execution_count": 4,
   "id": "93297e2c",
   "metadata": {},
   "outputs": [
    {
     "data": {
      "text/plain": [
       "[Document(id='5a5c42ab-74ae-4c01-b242-48cf3cd55160', metadata={'source': 'https://lilianweng.github.io/posts/2023-06-23-agent/', 'title': \"LLM Powered Autonomous Agents | Lil'Log\", 'description': 'Building agents with LLM (large language model) as its core controller is a cool concept. Several proof-of-concepts demos, such as AutoGPT, GPT-Engineer and BabyAGI, serve as inspiring examples. The potentiality of LLM extends beyond generating well-written copies, stories, essays and programs; it can be framed as a powerful general problem solver.\\nAgent System Overview\\nIn a LLM-powered autonomous agent system, LLM functions as the agent’s brain, complemented by several key components:\\n\\nPlanning\\n\\nSubgoal and decomposition: The agent breaks down large tasks into smaller, manageable subgoals, enabling efficient handling of complex tasks.\\nReflection and refinement: The agent can do self-criticism and self-reflection over past actions, learn from mistakes and refine them for future steps, thereby improving the quality of final results.\\n\\n\\nMemory\\n\\nShort-term memory: I would consider all the in-context learning (See Prompt Engineering) as utilizing short-term memory of the model to learn.\\nLong-term memory: This provides the agent with the capability to retain and recall (infinite) information over extended periods, often by leveraging an external vector store and fast retrieval.\\n\\n\\nTool use\\n\\nThe agent learns to call external APIs for extra information that is missing from the model weights (often hard to change after pre-training), including current information, code execution capability, access to proprietary information sources and more.\\n\\n\\n\\n\\n\\t\\n\\tOverview of a LLM-powered autonomous agent system.\\n\\nComponent One: Planning\\nA complicated task usually involves many steps. An agent needs to know what they are and plan ahead.', 'language': 'en'}, page_content='Boiko et al. (2023) also looked into LLM-empowered agents for scientific discovery, to handle autonomous design, planning, and performance of complex scientific experiments. This agent can use tools to browse the Internet, read documentation, execute code, call robotics experimentation APIs and leverage other LLMs.\\nFor example, when requested to \"develop a novel anticancer drug\", the model came up with the following reasoning steps:'),\n",
       " Document(id='342c8128-cca8-4866-96c5-ce1b943ece2f', metadata={'source': 'https://lilianweng.github.io/posts/2023-06-23-agent/', 'title': \"LLM Powered Autonomous Agents | Lil'Log\", 'description': 'Building agents with LLM (large language model) as its core controller is a cool concept. Several proof-of-concepts demos, such as AutoGPT, GPT-Engineer and BabyAGI, serve as inspiring examples. The potentiality of LLM extends beyond generating well-written copies, stories, essays and programs; it can be framed as a powerful general problem solver.\\nAgent System Overview\\nIn a LLM-powered autonomous agent system, LLM functions as the agent’s brain, complemented by several key components:\\n\\nPlanning\\n\\nSubgoal and decomposition: The agent breaks down large tasks into smaller, manageable subgoals, enabling efficient handling of complex tasks.\\nReflection and refinement: The agent can do self-criticism and self-reflection over past actions, learn from mistakes and refine them for future steps, thereby improving the quality of final results.\\n\\n\\nMemory\\n\\nShort-term memory: I would consider all the in-context learning (See Prompt Engineering) as utilizing short-term memory of the model to learn.\\nLong-term memory: This provides the agent with the capability to retain and recall (infinite) information over extended periods, often by leveraging an external vector store and fast retrieval.\\n\\n\\nTool use\\n\\nThe agent learns to call external APIs for extra information that is missing from the model weights (often hard to change after pre-training), including current information, code execution capability, access to proprietary information sources and more.\\n\\n\\n\\n\\n\\t\\n\\tOverview of a LLM-powered autonomous agent system.\\n\\nComponent One: Planning\\nA complicated task usually involves many steps. An agent needs to know what they are and plan ahead.', 'language': 'en'}, page_content='Citation#\\nCited as:\\n\\nWeng, Lilian. (Jun 2023). “LLM-powered Autonomous Agents”. Lil’Log. https://lilianweng.github.io/posts/2023-06-23-agent/.'),\n",
       " Document(id='781f250d-3053-4f52-a739-1ffbe2e68214', metadata={'source': 'https://lilianweng.github.io/posts/2023-06-23-agent/', 'title': \"LLM Powered Autonomous Agents | Lil'Log\", 'description': 'Building agents with LLM (large language model) as its core controller is a cool concept. Several proof-of-concepts demos, such as AutoGPT, GPT-Engineer and BabyAGI, serve as inspiring examples. The potentiality of LLM extends beyond generating well-written copies, stories, essays and programs; it can be framed as a powerful general problem solver.\\nAgent System Overview\\nIn a LLM-powered autonomous agent system, LLM functions as the agent’s brain, complemented by several key components:\\n\\nPlanning\\n\\nSubgoal and decomposition: The agent breaks down large tasks into smaller, manageable subgoals, enabling efficient handling of complex tasks.\\nReflection and refinement: The agent can do self-criticism and self-reflection over past actions, learn from mistakes and refine them for future steps, thereby improving the quality of final results.\\n\\n\\nMemory\\n\\nShort-term memory: I would consider all the in-context learning (See Prompt Engineering) as utilizing short-term memory of the model to learn.\\nLong-term memory: This provides the agent with the capability to retain and recall (infinite) information over extended periods, often by leveraging an external vector store and fast retrieval.\\n\\n\\nTool use\\n\\nThe agent learns to call external APIs for extra information that is missing from the model weights (often hard to change after pre-training), including current information, code execution capability, access to proprietary information sources and more.\\n\\n\\n\\n\\n\\t\\n\\tOverview of a LLM-powered autonomous agent system.\\n\\nComponent One: Planning\\nA complicated task usually involves many steps. An agent needs to know what they are and plan ahead.', 'language': 'en'}, page_content='Or\\n@article{weng2023agent,\\n  title   = \"LLM-powered Autonomous Agents\",\\n  author  = \"Weng, Lilian\",\\n  journal = \"lilianweng.github.io\",\\n  year    = \"2023\",\\n  month   = \"Jun\",\\n  url     = \"https://lilianweng.github.io/posts/2023-06-23-agent/\"\\n}\\nReferences#\\n[1] Wei et al. “Chain of thought prompting elicits reasoning in large language models.” NeurIPS 2022\\n[2] Yao et al. “Tree of Thoughts: Dliberate Problem Solving with Large Language Models.” arXiv preprint arXiv:2305.10601 (2023).'),\n",
       " Document(id='29116930-3b44-4418-8373-7185c7beeb8b', metadata={'source': 'https://lilianweng.github.io/posts/2023-06-23-agent/', 'title': \"LLM Powered Autonomous Agents | Lil'Log\", 'description': 'Building agents with LLM (large language model) as its core controller is a cool concept. Several proof-of-concepts demos, such as AutoGPT, GPT-Engineer and BabyAGI, serve as inspiring examples. The potentiality of LLM extends beyond generating well-written copies, stories, essays and programs; it can be framed as a powerful general problem solver.\\nAgent System Overview\\nIn a LLM-powered autonomous agent system, LLM functions as the agent’s brain, complemented by several key components:\\n\\nPlanning\\n\\nSubgoal and decomposition: The agent breaks down large tasks into smaller, manageable subgoals, enabling efficient handling of complex tasks.\\nReflection and refinement: The agent can do self-criticism and self-reflection over past actions, learn from mistakes and refine them for future steps, thereby improving the quality of final results.\\n\\n\\nMemory\\n\\nShort-term memory: I would consider all the in-context learning (See Prompt Engineering) as utilizing short-term memory of the model to learn.\\nLong-term memory: This provides the agent with the capability to retain and recall (infinite) information over extended periods, often by leveraging an external vector store and fast retrieval.\\n\\n\\nTool use\\n\\nThe agent learns to call external APIs for extra information that is missing from the model weights (often hard to change after pre-training), including current information, code execution capability, access to proprietary information sources and more.\\n\\n\\n\\n\\n\\t\\n\\tOverview of a LLM-powered autonomous agent system.\\n\\nComponent One: Planning\\nA complicated task usually involves many steps. An agent needs to know what they are and plan ahead.', 'language': 'en'}, page_content=\"LLM Powered Autonomous Agents | Lil'Log\\n\\n\\n\\n\\n\\n\\n\\n\\n\\n\\n\\n\\n\\n\\n\\n\\n\\n\\n\\n\\n\\n\\n\\n\\n\\n\\n\\n\\n\\n\\n\\n\\n\\n\\n\\n\\n\\n\\n\\nLil'Log\\n\\n\\n\\n\\n\\n\\n\\n\\n\\n\\n\\n\\n\\n\\n\\n\\n\\n|\\n\\n\\n\\n\\n\\n\\nPosts\\n\\n\\n\\n\\nArchive\\n\\n\\n\\n\\nSearch\\n\\n\\n\\n\\nTags\\n\\n\\n\\n\\nFAQ\\n\\n\\n\\n\\n\\n\\n\\n\\n\\n      LLM Powered Autonomous Agents\\n    \\nDate: June 23, 2023  |  Estimated Reading Time: 31 min  |  Author: Lilian Weng\\n\\n\\n \\n\\n\\nTable of Contents\\n\\n\\n\\nAgent System Overview\\n\\nComponent One: Planning\\n\\nTask Decomposition\\n\\nSelf-Reflection\\n\\n\\nComponent Two: Memory\\n\\nTypes of Memory\\n\\nMaximum Inner Product Search (MIPS)\")]"
      ]
     },
     "execution_count": 4,
     "metadata": {},
     "output_type": "execute_result"
    }
   ],
   "source": [
    "retriever.invoke(\"what are autonomous agents\")"
   ]
  },
  {
   "cell_type": "code",
   "execution_count": 5,
   "id": "16772a15",
   "metadata": {},
   "outputs": [],
   "source": [
    "def retriever_tool_func(query: str) -> str:\n",
    "    print(\"📚 Using RAGRetriever tool\")\n",
    "    docs = retriever.invoke(query)\n",
    "    return \"\\n\".join([doc.page_content for doc in docs])"
   ]
  },
  {
   "cell_type": "code",
   "execution_count": 6,
   "id": "42b7e841",
   "metadata": {},
   "outputs": [
    {
     "name": "stdout",
     "output_type": "stream",
     "text": [
      "📚 Using RAGRetriever tool\n"
     ]
    },
    {
     "data": {
      "text/plain": [
       "'Boiko et al. (2023) also looked into LLM-empowered agents for scientific discovery, to handle autonomous design, planning, and performance of complex scientific experiments. This agent can use tools to browse the Internet, read documentation, execute code, call robotics experimentation APIs and leverage other LLMs.\\nFor example, when requested to \"develop a novel anticancer drug\", the model came up with the following reasoning steps:\\nCitation#\\nCited as:\\n\\nWeng, Lilian. (Jun 2023). “LLM-powered Autonomous Agents”. Lil’Log. https://lilianweng.github.io/posts/2023-06-23-agent/.\\nOr\\n@article{weng2023agent,\\n  title   = \"LLM-powered Autonomous Agents\",\\n  author  = \"Weng, Lilian\",\\n  journal = \"lilianweng.github.io\",\\n  year    = \"2023\",\\n  month   = \"Jun\",\\n  url     = \"https://lilianweng.github.io/posts/2023-06-23-agent/\"\\n}\\nReferences#\\n[1] Wei et al. “Chain of thought prompting elicits reasoning in large language models.” NeurIPS 2022\\n[2] Yao et al. “Tree of Thoughts: Dliberate Problem Solving with Large Language Models.” arXiv preprint arXiv:2305.10601 (2023).\\nLLM Powered Autonomous Agents | Lil\\'Log\\n\\n\\n\\n\\n\\n\\n\\n\\n\\n\\n\\n\\n\\n\\n\\n\\n\\n\\n\\n\\n\\n\\n\\n\\n\\n\\n\\n\\n\\n\\n\\n\\n\\n\\n\\n\\n\\n\\n\\nLil\\'Log\\n\\n\\n\\n\\n\\n\\n\\n\\n\\n\\n\\n\\n\\n\\n\\n\\n\\n|\\n\\n\\n\\n\\n\\n\\nPosts\\n\\n\\n\\n\\nArchive\\n\\n\\n\\n\\nSearch\\n\\n\\n\\n\\nTags\\n\\n\\n\\n\\nFAQ\\n\\n\\n\\n\\n\\n\\n\\n\\n\\n      LLM Powered Autonomous Agents\\n    \\nDate: June 23, 2023  |  Estimated Reading Time: 31 min  |  Author: Lilian Weng\\n\\n\\n \\n\\n\\nTable of Contents\\n\\n\\n\\nAgent System Overview\\n\\nComponent One: Planning\\n\\nTask Decomposition\\n\\nSelf-Reflection\\n\\n\\nComponent Two: Memory\\n\\nTypes of Memory\\n\\nMaximum Inner Product Search (MIPS)'"
      ]
     },
     "execution_count": 6,
     "metadata": {},
     "output_type": "execute_result"
    }
   ],
   "source": [
    "retriever_tool_func(\"what are autonomous agents\")"
   ]
  },
  {
   "cell_type": "code",
   "execution_count": 8,
   "id": "744b3daf",
   "metadata": {},
   "outputs": [
    {
     "name": "stdout",
     "output_type": "stream",
     "text": [
      "RAGRetriever\n"
     ]
    }
   ],
   "source": [
    "retriever_tool=Tool(\n",
    "    name=\"RAGRetriever\",\n",
    "    description=\"Use this tool to fetch relevant knowledge base info\",\n",
    "    func=retriever_tool_func\n",
    ")\n",
    "retriever_tool\n",
    "print(retriever_tool.name)"
   ]
  },
  {
   "cell_type": "code",
   "execution_count": 9,
   "id": "104093c3",
   "metadata": {},
   "outputs": [
    {
     "data": {
      "text/plain": [
       "WikipediaQueryRun(api_wrapper=WikipediaAPIWrapper(wiki_client=<module 'wikipedia' from 'e:\\\\RAGUdemy\\\\.venv\\\\Lib\\\\site-packages\\\\wikipedia\\\\__init__.py'>, top_k_results=3, lang='en', load_all_available_meta=False, doc_content_chars_max=4000))"
      ]
     },
     "execution_count": 9,
     "metadata": {},
     "output_type": "execute_result"
    }
   ],
   "source": [
    "# Wikipedia tool\n",
    "wiki_tool = WikipediaQueryRun(api_wrapper=WikipediaAPIWrapper())\n",
    "wiki_tool"
   ]
  },
  {
   "cell_type": "code",
   "execution_count": 10,
   "id": "2e953f0d",
   "metadata": {},
   "outputs": [],
   "source": [
    "import os\n",
    "from langchain.chat_models import init_chat_model\n",
    "from dotenv import load_dotenv\n",
    "os.environ[\"OPENAI_API_KEY\"]=os.getenv(\"OPENAI_API_KEY\")\n",
    "llm=init_chat_model(\"openai:gpt-4o\")"
   ]
  },
  {
   "cell_type": "code",
   "execution_count": 11,
   "id": "3b77c9d4",
   "metadata": {},
   "outputs": [
    {
     "data": {
      "image/png": "[encoded data removed]",
      "text/plain": [
       "<langgraph.graph.state.CompiledStateGraph object at 0x00000210EB4EBA10>"
      ]
     },
     "execution_count": 11,
     "metadata": {},
     "output_type": "execute_result"
    }
   ],
   "source": [
    "# ----------------------------\n",
    "# 2. Define the Agent Node\n",
    "# ----------------------------\n",
    "\n",
    "\n",
    "\n",
    "tools = [retriever_tool, wiki_tool]\n",
    "\n",
    "## create the native Langgraph react agent\n",
    "react_node=create_react_agent(llm,tools)\n",
    "react_node"
   ]
  },
  {
   "cell_type": "code",
   "execution_count": 12,
   "id": "0708561d",
   "metadata": {},
   "outputs": [],
   "source": [
    "# --------------------------\n",
    "# 3. LangGraph Agent State\n",
    "# --------------------------\n",
    "\n",
    "class AgentState(TypedDict):\n",
    "    messages: Annotated[Sequence[BaseMessage], add_messages]"
   ]
  },
  {
   "cell_type": "code",
   "execution_count": 13,
   "id": "d49f8070",
   "metadata": {},
   "outputs": [
    {
     "data": {
      "image/png": "[encoded data removed]",
      "text/plain": [
       "<langgraph.graph.state.CompiledStateGraph object at 0x00000210EB6116D0>"
      ]
     },
     "execution_count": 13,
     "metadata": {},
     "output_type": "execute_result"
    }
   ],
   "source": [
    "# --------------------------\n",
    "# 4. Build LangGraph Graph\n",
    "# --------------------------\n",
    "\n",
    "builder = StateGraph(AgentState)\n",
    "\n",
    "builder.add_node(\"react_agent\", react_node)\n",
    "builder.set_entry_point(\"react_agent\")\n",
    "builder.add_edge(\"react_agent\", END)\n",
    "\n",
    "graph = builder.compile()\n",
    "graph"
   ]
  },
  {
   "cell_type": "code",
   "execution_count": 14,
   "id": "c2d9a20d",
   "metadata": {},
   "outputs": [
    {
     "name": "stdout",
     "output_type": "stream",
     "text": [
      "📚 Using RAGRetriever tool\n",
      "\n",
      "✅ Final Answer:\n",
      " ### Agent Loop\n",
      "\n",
      "An agent loop refers to the process in which an agent (often an AI or machine learning-based system) performs a cycle of operations to learn and improve its actions. The loop involves the agent interacting with its environment, receiving feedback, and updating its strategy or model to achieve better performance over time. This process may include exploring the current state, making decisions based on learned data, executing actions, and receiving concrete feedback or rewards, which then informs future iterations of the loop for continual learning and optimization.\n",
      "\n",
      "### Autonomous Agents (Wikipedia Overview)\n",
      "\n",
      "An autonomous agent is an AI system that can perform complex tasks independently without human intervention. Wikipedia describes different aspects related to such agents:\n",
      "\n",
      "1. **Intelligent Agent**: A broader category of autonomous agents, intelligent agents perceive their environment, take actions to achieve goals, may improve their performance through learning, and operate based on objective functions. These agents can range from simple control systems to entities like firms or biomes, showing goal-directed behavior through various functions and techniques like reinforcement learning.\n",
      "\n",
      "2. **Agentic AI**: Refers to AI systems that are proactive in pursuing goals, making decisions, and are capable of extended autonomous operation.\n",
      "\n",
      "3. **Application and Functions**: Autonomous agents can encompass roles in economics, cognitive science, ethics, and computer social simulations. They are often modeled similar to software agents that perform tasks on behalf of users, embodying characteristics akin to \"rational agents\" as conceptualized in economics.\n",
      "\n",
      "The description also includes a specific example of an autonomous agent, **Manus**, developed by the Chinese startup Monica. Manus can independently perform complex tasks, engage in dynamic planning and decision-making without continuous human input. It exemplifies autonomous agent intelligence focused on real-world applications.\n"
     ]
    }
   ],
   "source": [
    "# --------------------------\n",
    "# 5. Run the ReAct Agent\n",
    "# --------------------------\n",
    "\n",
    "if __name__ == \"__main__\":\n",
    "    user_query = \"What is an agent loop and how does Wikipedia describe autonomous agents?\"\n",
    "    state = {\"messages\": [HumanMessage(content=user_query)]}\n",
    "    result = graph.invoke(state)\n",
    "\n",
    "    print(\"\\n✅ Final Answer:\\n\", result[\"messages\"][-1].content)"
   ]
  },
  {
   "cell_type": "markdown",
   "id": "a1674ba0",
   "metadata": {},
   "source": [
    "### Tool creation for RAG agents with langgraph \n",
    "To create tools for RAG agents using LangGraph, you're essentially building LLM-invocable functions that your agent can call as part of its reasoning + acting loop (ReAct).\n",
    "\n",
    "LangGraph uses the Tool abstraction from LangChain and fully supports tools for:\n",
    "\n",
    "- RAG retrieval\n",
    "- Search\n",
    "- Wikipedia\n",
    "- SQL\n",
    "- Web APIs\n",
    "- Calculators, etc.\n",
    "\n",
    "#### ✅ Tool Design Requirements\n",
    "A LangGraph tool must:\n",
    "\n",
    "- Have a name\n",
    "- Have a description (used by the LLM to decide when to use it)\n",
    "- Have a callable func, accepting a single input (usually str) and returning str"
   ]
  },
  {
   "cell_type": "code",
   "execution_count": 20,
   "id": "c8d26a6e",
   "metadata": {},
   "outputs": [],
   "source": [
    "import os\n",
    "from typing import Annotated, Sequence, TypedDict\n",
    "from langchain.agents import Tool\n",
    "from langchain_community.vectorstores import FAISS\n",
    "from langchain_openai import OpenAIEmbeddings\n",
    "from langchain_community.document_loaders import WebBaseLoader, ArxivLoader, TextLoader\n",
    "from langchain.text_splitter import RecursiveCharacterTextSplitter\n",
    "from langchain.tools import WikipediaQueryRun\n",
    "from langchain.utilities import WikipediaAPIWrapper\n",
    "from langgraph.prebuilt import create_react_agent\n",
    "from langgraph.graph import StateGraph, END\n",
    "from langchain_core.messages import BaseMessage, HumanMessage\n",
    "from langgraph.graph.message import add_messages\n",
    "from langchain_community.document_loaders import TextLoader"
   ]
  },
  {
   "cell_type": "code",
   "execution_count": 17,
   "id": "f834985d",
   "metadata": {},
   "outputs": [
    {
     "data": {
      "text/plain": [
       "ChatOpenAI(client=<openai.resources.chat.completions.completions.Completions object at 0x00000210EB4EAE40>, async_client=<openai.resources.chat.completions.completions.AsyncCompletions object at 0x00000210EB4EB230>, root_client=<openai.OpenAI object at 0x00000210EB610190>, root_async_client=<openai.AsyncOpenAI object at 0x00000210EB6107D0>, model_name='gpt-4o', model_kwargs={}, openai_api_key=SecretStr('**********'))"
      ]
     },
     "execution_count": 17,
     "metadata": {},
     "output_type": "execute_result"
    }
   ],
   "source": [
    "llm"
   ]
  },
  {
   "cell_type": "code",
   "execution_count": 18,
   "id": "6bed0361",
   "metadata": {},
   "outputs": [],
   "source": [
    "### Generic function to create a retireval tool\n",
    "def make_retriever_tool_from_text(file,name,desc):\n",
    "    docs=TextLoader(file,encoding=\"utf-8\").load()\n",
    "    chunks = RecursiveCharacterTextSplitter(chunk_size=500, chunk_overlap=50).split_documents(docs)\n",
    "    vs = FAISS.from_documents(chunks, OpenAIEmbeddings())\n",
    "    retriever = vs.as_retriever()\n",
    "\n",
    "    def tool_func(query:str)->str:\n",
    "        print(f\"📚 Using tool: {name}\")\n",
    "        results = retriever.invoke(query)\n",
    "        return \"\\n\\n\".join(doc.page_content for doc in results)\n",
    "    \n",
    "    return Tool(name=name,description=desc,func=tool_func)\n",
    "\n",
    "\n",
    "# Wikipedia Tool\n",
    "wiki_tool = Tool(\n",
    "    name=\"Wikipedia\",\n",
    "    description=\"Use this tool to fetch general world knowledge from Wikipedia.\",\n",
    "    func=WikipediaQueryRun(api_wrapper=WikipediaAPIWrapper())\n",
    ")\n",
    "\n",
    "# ArXiv Tool\n",
    "def arxiv_search(query: str) -> str:\n",
    "    print(\"🧪 Searching ArXiv...\")\n",
    "    results = ArxivLoader(query).load()\n",
    "    return \"\\n\\n\".join(doc.page_content[:1000] for doc in results[:2]) or \"No papers found.\"\n",
    "\n",
    "arxiv_tool = Tool(\n",
    "    name=\"ArxivSearch\",\n",
    "    description=\"Use this tool to fetch recent academic papers on technical topics.\",\n",
    "    func=arxiv_search\n",
    ")\n"
   ]
  },
  {
   "cell_type": "code",
   "execution_count": 21,
   "id": "6f055f7b",
   "metadata": {},
   "outputs": [
    {
     "data": {
      "text/plain": [
       "Tool(name='InternalTechDocs', description='Search internal tech documents for proprietary architecture and methods.', func=<function make_retriever_tool_from_text.<locals>.tool_func at 0x00000210EB772660>)"
      ]
     },
     "execution_count": 21,
     "metadata": {},
     "output_type": "execute_result"
    }
   ],
   "source": [
    "internal_tool_1=make_retriever_tool_from_text(\n",
    "    \"internal_docs.txt\",\n",
    "    \"InternalTechDocs\",\n",
    "    \"Search internal tech documents for proprietary architecture and methods.\"\n",
    ")\n",
    "internal_tool_1"
   ]
  },
  {
   "cell_type": "code",
   "execution_count": 22,
   "id": "03d60a30",
   "metadata": {},
   "outputs": [
    {
     "data": {
      "text/plain": [
       "Tool(name='InternalResearchNotes', description='Search internal research notes for experimental results and agent designs.', func=<function make_retriever_tool_from_text.<locals>.tool_func at 0x00000210EB6EC2C0>)"
      ]
     },
     "execution_count": 22,
     "metadata": {},
     "output_type": "execute_result"
    }
   ],
   "source": [
    "internal_tool_2 = make_retriever_tool_from_text(\n",
    "    \"research_notes.txt\",\n",
    "    \"InternalResearchNotes\",\n",
    "    \"Search internal research notes for experimental results and agent designs.\"\n",
    ")\n",
    "internal_tool_2"
   ]
  },
  {
   "cell_type": "code",
   "execution_count": 23,
   "id": "99788378",
   "metadata": {},
   "outputs": [
    {
     "data": {
      "image/png": "[encoded data removed]",
      "text/plain": [
       "<langgraph.graph.state.CompiledStateGraph object at 0x00000210EB861F90>"
      ]
     },
     "execution_count": 23,
     "metadata": {},
     "output_type": "execute_result"
    }
   ],
   "source": [
    "tools=[wiki_tool,arxiv_tool,internal_tool_1,internal_tool_2]\n",
    "\n",
    "react_node=create_react_agent(llm,tools)\n",
    "react_node"
   ]
  },
  {
   "cell_type": "code",
   "execution_count": 24,
   "id": "3b3957b5",
   "metadata": {},
   "outputs": [],
   "source": [
    "class AgentState(TypedDict):\n",
    "    messages: Annotated[Sequence[BaseMessage], add_messages]"
   ]
  },
  {
   "cell_type": "code",
   "execution_count": 25,
   "id": "279bca91",
   "metadata": {},
   "outputs": [
    {
     "data": {
      "image/png": "[encoded data removed]",
      "text/plain": [
       "<langgraph.graph.state.CompiledStateGraph object at 0x00000210EB6CE650>"
      ]
     },
     "execution_count": 25,
     "metadata": {},
     "output_type": "execute_result"
    }
   ],
   "source": [
    "builder = StateGraph(AgentState)\n",
    "builder.add_node(\"agentic_rag\", react_node)\n",
    "builder.set_entry_point(\"agentic_rag\")\n",
    "builder.add_edge(\"agentic_rag\", END)\n",
    "\n",
    "graph = builder.compile()\n",
    "graph\n"
   ]
  },
  {
   "cell_type": "code",
   "execution_count": 27,
   "id": "ee74476e",
   "metadata": {},
   "outputs": [
    {
     "name": "stdout",
     "output_type": "stream",
     "text": [
      "📚 Using tool: InternalResearchNotes\n",
      "🧪 Searching ArXiv...\n",
      "\n",
      "✅ Final Answer:\n",
      " Our internal research notes highlight a variety of transformer variants evaluated for specific applications:\n",
      "\n",
      "1. **EfficientFormer**: Achieved a 92.4% top-1 accuracy on TinyImageNet, efficient in quantized int8 mode, intended for deployment on Raspberry Pi 4.\n",
      "\n",
      "2. **Longformer**: Evaluated on customer support logs and noted for chunk-based hybrid attention to reduce latency during streaming.\n",
      "\n",
      "3. **Reformer**: Encountered issues with bucket collisions and sparse gradient updates, addressed through gradient clipping and memory-efficient attention modules.\n",
      "\n",
      "4. **TinyBERT**: Used for classifying support ticket priorities, achieving an 87% F1 score, with successful domain transfer using a 2-layer FFN adapter.\n",
      "\n",
      "5. **Additional Experiments**:\n",
      "   - **FlashAttention2**: Integrated into LLaMA2 for reduced latency.\n",
      "   - **Chain-of-Thought prompting**: Improved performance on logic tasks.\n",
      "   - **Retrieval Experiments**: Evaluated FAISS versus Weaviate for retrieval efficiency.\n",
      "   - **LoRA Tuning**: Achieved a 60% reduction in GPU memory usage.\n",
      "\n",
      "Recent ArXiv papers did not immediately return relevant transformer variants; the response may included results from unrelated or less recent papers indicating the need for further filtering to obtain the latest relevant transformer research.\n",
      "\n",
      "If you need further specific details or updates, checking the exact titles and abstracts from ArXiv would be beneficial.\n"
     ]
    }
   ],
   "source": [
    "query = \"What do our internal research notes say about transformer variants, and what does ArXiv suggest recently?\"\n",
    "\n",
    "state = {\"messages\": [HumanMessage(content=query)]}\n",
    "result = graph.invoke(state)\n",
    "\n",
    "print(\"\\n✅ Final Answer:\\n\", result[\"messages\"][-1].content)"
   ]
  }
 ],
 "metadata": {
  "kernelspec": {
   "display_name": "RAGUdemy",
   "language": "python",
   "name": "python3"
  },
  "language_info": {
   "codemirror_mode": {
    "name": "ipython",
    "version": 3
   },
   "file_extension": ".py",
   "mimetype": "text/x-python",
   "name": "python",
   "nbconvert_exporter": "python",
   "pygments_lexer": "ipython3",
   "version": "3.13.2"
  }
 },
 "nbformat": 4,
 "nbformat_minor": 5
}
