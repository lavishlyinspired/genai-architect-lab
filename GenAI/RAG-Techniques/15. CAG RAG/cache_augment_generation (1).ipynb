{
 "cells": [
  {
   "cell_type": "markdown",
   "id": "5a86aa13",
   "metadata": {},
   "source": [
    "### What is Cache-Augmented Generation (CAG)?\n",
    "CAG is a retrieval-free approach that bypasses the usual step of querying external knowledge sources at inference time. Instead, it preloads relevant documents into the LLM's extended context window, precomputes the model’s key‑value (KV) cache, and reuses this during inference—so the model can generate responses without additional retrieval steps "
   ]
  },
  {
   "cell_type": "code",
   "execution_count": 11,
   "id": "03e6e537",
   "metadata": {},
   "outputs": [
    {
     "data": {
      "text/plain": [
       "ChatOpenAI(client=<openai.resources.chat.completions.completions.Completions object at 0x00000217B9B4CA50>, async_client=<openai.resources.chat.completions.completions.AsyncCompletions object at 0x00000217B9B4CE10>, root_client=<openai.OpenAI object at 0x00000217B9B4C7D0>, root_async_client=<openai.AsyncOpenAI object at 0x00000217B9B4CB90>, model_name='gpt-4o-mini', model_kwargs={}, openai_api_key=SecretStr('**********'))"
      ]
     },
     "execution_count": 11,
     "metadata": {},
     "output_type": "execute_result"
    }
   ],
   "source": [
    "import os\n",
    "from dotenv import load_dotenv\n",
    "load_dotenv()\n",
    "os.environ[\"OPENAI_API_KEY\"]=os.getenv(\"OPENAI_API_KEY\")\n",
    "\n",
    "from langchain.chat_models import init_chat_model\n",
    "\n",
    "llm=init_chat_model(\"openai:gpt-4o-mini\")\n",
    "\n",
    "llm"
   ]
  },
  {
   "cell_type": "code",
   "execution_count": 12,
   "id": "12d950ef",
   "metadata": {},
   "outputs": [],
   "source": [
    "### Cache variable\n",
    "Model_Cache={}"
   ]
  },
  {
   "cell_type": "code",
   "execution_count": 15,
   "id": "48802156",
   "metadata": {},
   "outputs": [],
   "source": [
    "import time\n",
    "\n",
    "def cache_model(query):\n",
    "    start_time=time.time()\n",
    "    if Model_Cache.get(query):\n",
    "        print(\"**CAche Hit**\")\n",
    "        end_time=time.time()\n",
    "        elapsed_time=end_time-start_time\n",
    "        print(f\"EXECUTION TIME: {elapsed_time:.2f} seconds\")\n",
    "        return Model_Cache.get(query)\n",
    "    else:\n",
    "        print(\"***CACHE MISS – EXECUTING MODEL***\")\n",
    "        start_time = time.time()\n",
    "        response = llm.invoke(query)\n",
    "        end_time = time.time()\n",
    "        elapsed = end_time - start_time\n",
    "        print(f\"EXECUTION TIME: {elapsed:.2f} seconds\")\n",
    "        Model_Cache[query] = response\n",
    "        return response\n"
   ]
  },
  {
   "cell_type": "code",
   "execution_count": 16,
   "id": "85b3c6ff",
   "metadata": {},
   "outputs": [
    {
     "name": "stdout",
     "output_type": "stream",
     "text": [
      "**CAche Hit**\n",
      "EXECUTION TIME: 0.00 seconds\n"
     ]
    },
    {
     "data": {
      "text/plain": [
       "AIMessage(content='Hello! How can I assist you today?', additional_kwargs={'refusal': None}, response_metadata={'token_usage': {'completion_tokens': 9, 'prompt_tokens': 8, 'total_tokens': 17, 'completion_tokens_details': {'accepted_prediction_tokens': 0, 'audio_tokens': 0, 'reasoning_tokens': 0, 'rejected_prediction_tokens': 0}, 'prompt_tokens_details': {'audio_tokens': 0, 'cached_tokens': 0}}, 'model_name': 'gpt-4o-mini-2024-07-18', 'system_fingerprint': 'fp_34a54ae93c', 'id': 'chatcmpl-C2CUlo0Vqh6oEZAqKRETKWuH8QkTp', 'service_tier': 'default', 'finish_reason': 'stop', 'logprobs': None}, id='run--5e7476b7-8724-4a40-b167-815538814757-0', usage_metadata={'input_tokens': 8, 'output_tokens': 9, 'total_tokens': 17, 'input_token_details': {'audio': 0, 'cache_read': 0}, 'output_token_details': {'audio': 0, 'reasoning': 0}})"
      ]
     },
     "execution_count": 16,
     "metadata": {},
     "output_type": "execute_result"
    }
   ],
   "source": [
    "response=cache_model(\"hi\")\n",
    "response"
   ]
  },
  {
   "cell_type": "code",
   "execution_count": 17,
   "id": "6407acf4",
   "metadata": {},
   "outputs": [
    {
     "data": {
      "text/plain": [
       "{'hi': AIMessage(content='Hello! How can I assist you today?', additional_kwargs={'refusal': None}, response_metadata={'token_usage': {'completion_tokens': 9, 'prompt_tokens': 8, 'total_tokens': 17, 'completion_tokens_details': {'accepted_prediction_tokens': 0, 'audio_tokens': 0, 'reasoning_tokens': 0, 'rejected_prediction_tokens': 0}, 'prompt_tokens_details': {'audio_tokens': 0, 'cached_tokens': 0}}, 'model_name': 'gpt-4o-mini-2024-07-18', 'system_fingerprint': 'fp_34a54ae93c', 'id': 'chatcmpl-C2CUlo0Vqh6oEZAqKRETKWuH8QkTp', 'service_tier': 'default', 'finish_reason': 'stop', 'logprobs': None}, id='run--5e7476b7-8724-4a40-b167-815538814757-0', usage_metadata={'input_tokens': 8, 'output_tokens': 9, 'total_tokens': 17, 'input_token_details': {'audio': 0, 'cache_read': 0}, 'output_token_details': {'audio': 0, 'reasoning': 0}})}"
      ]
     },
     "execution_count": 17,
     "metadata": {},
     "output_type": "execute_result"
    }
   ],
   "source": [
    "Model_Cache"
   ]
  },
  {
   "cell_type": "code",
   "execution_count": 18,
   "id": "32188896",
   "metadata": {},
   "outputs": [
    {
     "name": "stdout",
     "output_type": "stream",
     "text": [
      "**CAche Hit**\n",
      "EXECUTION TIME: 0.00 seconds\n"
     ]
    },
    {
     "data": {
      "text/plain": [
       "AIMessage(content='Hello! How can I assist you today?', additional_kwargs={'refusal': None}, response_metadata={'token_usage': {'completion_tokens': 9, 'prompt_tokens': 8, 'total_tokens': 17, 'completion_tokens_details': {'accepted_prediction_tokens': 0, 'audio_tokens': 0, 'reasoning_tokens': 0, 'rejected_prediction_tokens': 0}, 'prompt_tokens_details': {'audio_tokens': 0, 'cached_tokens': 0}}, 'model_name': 'gpt-4o-mini-2024-07-18', 'system_fingerprint': 'fp_34a54ae93c', 'id': 'chatcmpl-C2CUlo0Vqh6oEZAqKRETKWuH8QkTp', 'service_tier': 'default', 'finish_reason': 'stop', 'logprobs': None}, id='run--5e7476b7-8724-4a40-b167-815538814757-0', usage_metadata={'input_tokens': 8, 'output_tokens': 9, 'total_tokens': 17, 'input_token_details': {'audio': 0, 'cache_read': 0}, 'output_token_details': {'audio': 0, 'reasoning': 0}})"
      ]
     },
     "execution_count": 18,
     "metadata": {},
     "output_type": "execute_result"
    }
   ],
   "source": [
    "response=cache_model(\"hi\")\n",
    "response"
   ]
  },
  {
   "cell_type": "code",
   "execution_count": 19,
   "id": "8d65ff0a",
   "metadata": {},
   "outputs": [
    {
     "name": "stdout",
     "output_type": "stream",
     "text": [
      "***CACHE MISS – EXECUTING MODEL***\n",
      "EXECUTION TIME: 17.24 seconds\n",
      "content=\"LangGraph is an innovative framework that seeks to improve language modeling and understanding by leveraging the power of graph-based representations. In recent years, the understanding of how language functions has witnessed a significant evolution, necessitating more sophisticated and nuanced approaches to handle the complexities of human communication. LangGraph aims to bridge this gap by modeling language as a network of interconnected concepts, rather than as a mere sequence of words.\\n\\nAt the core of LangGraph is the idea that language can be represented as a graph, where nodes correspond to words, phrases, or even larger semantic units, and edges represent the relationships between them. This graphical representation allows for a more holistic approach to understanding the meaning of texts, as it captures not only the syntactical relationships but also the semantic connections that exist among various components of language. For instance, synonyms, antonyms, hypernyms, and hyponyms can all be represented in a way that highlights their interrelations, providing a richer contextual understanding.\\n\\nOne of the principal advantages of using a graph-based model is its ability to represent context more effectively than traditional linear models. In language, context plays a crucial role in determining the meaning of words and phrases. By utilizing a graph structure, LangGraph can incorporate contextual information in a more dynamic way. This is particularly beneficial for tasks such as disambiguating meanings of polysemous words, understanding idiomatic expressions, and resolving ambiguities that arise in natural language.\\n\\nLangGraph also harnesses the power of machine learning and artificial intelligence to optimize the graph representation and enhance language understanding. By employing algorithms that analyze vast corpora of text, the framework can learn the most relevant connections and relationships needed to build a highly informative graph. This learning process can be fine-tuned through supervised or unsupervised methods, allowing for continuous improvement of the model as it encounters new data.\\n\\nAdditionally, LangGraph is versatile and can be adapted for various natural language processing (NLP) tasks. Whether it’s sentiment analysis, translation, or information retrieval, the graphical approach allows for greater flexibility and accuracy. For example, in sentiment analysis, by analyzing the graph of words and their sentiments connected to specific topics, LangGraph can provide a more nuanced view of how sentiment flows through a piece of text.\\n\\nMoreover, LangGraph's inherent structure lends itself well to the visualization of language data. This is particularly valuable in educational contexts, where visual aids can facilitate the understanding of complex language concepts. Teachers and learners can engage with the interplay of ideas represented in the graph, making it easier to grasp intricate relationships and enhance comprehension.\\n\\nDespite its many advantages, the implementation of LangGraph is not without challenges. Building an accurate and comprehensive graph requires significant computational resources, and ensuring that it remains up-to-date in the face of evolving language uses is a complex task. Additionally, the complexity of language itself—filled with idioms, cultural nuances, and varying syntactical structures—means that developing a universally applicable graph remains a work in progress.\\n\\nIn conclusion, LangGraph represents a significant advancement in the field of language modeling. By reconfiguring how we approach language through graph representations, this framework offers a promising pathway towards deeper understanding and more sophisticated applications of natural language processing. As research continues and technology advances, LangGraph has the potential to unlock new capabilities in the field, paving the way for more intuitive human-machine interactions and a richer grasp of linguistic complexities.\" additional_kwargs={'refusal': None} response_metadata={'token_usage': {'completion_tokens': 676, 'prompt_tokens': 18, 'total_tokens': 694, 'completion_tokens_details': {'accepted_prediction_tokens': 0, 'audio_tokens': 0, 'reasoning_tokens': 0, 'rejected_prediction_tokens': 0}, 'prompt_tokens_details': {'audio_tokens': 0, 'cached_tokens': 0}}, 'model_name': 'gpt-4o-mini-2024-07-18', 'system_fingerprint': 'fp_34a54ae93c', 'id': 'chatcmpl-C2CUzkbxEFsRx35ap9HibPHndk6Km', 'service_tier': 'default', 'finish_reason': 'stop', 'logprobs': None} id='run--ec394cd0-e794-4160-bb79-4a4dbaa9b7fd-0' usage_metadata={'input_tokens': 18, 'output_tokens': 676, 'total_tokens': 694, 'input_token_details': {'audio': 0, 'cache_read': 0}, 'output_token_details': {'audio': 0, 'reasoning': 0}}\n"
     ]
    }
   ],
   "source": [
    "query=\"can you give me 500 words on langgraph?\"\n",
    "response =cache_model(query)\n",
    "print(response)"
   ]
  },
  {
   "cell_type": "code",
   "execution_count": 20,
   "id": "b37e3685",
   "metadata": {},
   "outputs": [
    {
     "name": "stdout",
     "output_type": "stream",
     "text": [
      "**CAche Hit**\n",
      "EXECUTION TIME: 0.00 seconds\n",
      "content=\"LangGraph is an innovative framework that seeks to improve language modeling and understanding by leveraging the power of graph-based representations. In recent years, the understanding of how language functions has witnessed a significant evolution, necessitating more sophisticated and nuanced approaches to handle the complexities of human communication. LangGraph aims to bridge this gap by modeling language as a network of interconnected concepts, rather than as a mere sequence of words.\\n\\nAt the core of LangGraph is the idea that language can be represented as a graph, where nodes correspond to words, phrases, or even larger semantic units, and edges represent the relationships between them. This graphical representation allows for a more holistic approach to understanding the meaning of texts, as it captures not only the syntactical relationships but also the semantic connections that exist among various components of language. For instance, synonyms, antonyms, hypernyms, and hyponyms can all be represented in a way that highlights their interrelations, providing a richer contextual understanding.\\n\\nOne of the principal advantages of using a graph-based model is its ability to represent context more effectively than traditional linear models. In language, context plays a crucial role in determining the meaning of words and phrases. By utilizing a graph structure, LangGraph can incorporate contextual information in a more dynamic way. This is particularly beneficial for tasks such as disambiguating meanings of polysemous words, understanding idiomatic expressions, and resolving ambiguities that arise in natural language.\\n\\nLangGraph also harnesses the power of machine learning and artificial intelligence to optimize the graph representation and enhance language understanding. By employing algorithms that analyze vast corpora of text, the framework can learn the most relevant connections and relationships needed to build a highly informative graph. This learning process can be fine-tuned through supervised or unsupervised methods, allowing for continuous improvement of the model as it encounters new data.\\n\\nAdditionally, LangGraph is versatile and can be adapted for various natural language processing (NLP) tasks. Whether it’s sentiment analysis, translation, or information retrieval, the graphical approach allows for greater flexibility and accuracy. For example, in sentiment analysis, by analyzing the graph of words and their sentiments connected to specific topics, LangGraph can provide a more nuanced view of how sentiment flows through a piece of text.\\n\\nMoreover, LangGraph's inherent structure lends itself well to the visualization of language data. This is particularly valuable in educational contexts, where visual aids can facilitate the understanding of complex language concepts. Teachers and learners can engage with the interplay of ideas represented in the graph, making it easier to grasp intricate relationships and enhance comprehension.\\n\\nDespite its many advantages, the implementation of LangGraph is not without challenges. Building an accurate and comprehensive graph requires significant computational resources, and ensuring that it remains up-to-date in the face of evolving language uses is a complex task. Additionally, the complexity of language itself—filled with idioms, cultural nuances, and varying syntactical structures—means that developing a universally applicable graph remains a work in progress.\\n\\nIn conclusion, LangGraph represents a significant advancement in the field of language modeling. By reconfiguring how we approach language through graph representations, this framework offers a promising pathway towards deeper understanding and more sophisticated applications of natural language processing. As research continues and technology advances, LangGraph has the potential to unlock new capabilities in the field, paving the way for more intuitive human-machine interactions and a richer grasp of linguistic complexities.\" additional_kwargs={'refusal': None} response_metadata={'token_usage': {'completion_tokens': 676, 'prompt_tokens': 18, 'total_tokens': 694, 'completion_tokens_details': {'accepted_prediction_tokens': 0, 'audio_tokens': 0, 'reasoning_tokens': 0, 'rejected_prediction_tokens': 0}, 'prompt_tokens_details': {'audio_tokens': 0, 'cached_tokens': 0}}, 'model_name': 'gpt-4o-mini-2024-07-18', 'system_fingerprint': 'fp_34a54ae93c', 'id': 'chatcmpl-C2CUzkbxEFsRx35ap9HibPHndk6Km', 'service_tier': 'default', 'finish_reason': 'stop', 'logprobs': None} id='run--ec394cd0-e794-4160-bb79-4a4dbaa9b7fd-0' usage_metadata={'input_tokens': 18, 'output_tokens': 676, 'total_tokens': 694, 'input_token_details': {'audio': 0, 'cache_read': 0}, 'output_token_details': {'audio': 0, 'reasoning': 0}}\n"
     ]
    }
   ],
   "source": [
    "query=\"can you give me 500 words on langgraph?\"\n",
    "response =cache_model(query)\n",
    "print(response)"
   ]
  },
  {
   "cell_type": "code",
   "execution_count": 21,
   "id": "50bc19f8",
   "metadata": {},
   "outputs": [
    {
     "name": "stdout",
     "output_type": "stream",
     "text": [
      "***CACHE MISS – EXECUTING MODEL***\n",
      "EXECUTION TIME: 12.18 seconds\n",
      "content='LangGraph is an innovative concept that sits at the intersection of natural language processing (NLP) and graph-based representation of information. It enables more effective modeling and understanding of relationships, concepts, and data found in various forms of human language. As the demand for advanced language understanding has increased, LangGraph offers a new avenue for researchers, developers, and businesses aiming to harness the power of language data.\\n\\nAt its core, LangGraph uses graph theory to represent linguistic elements, treating words, phrases, and concepts as nodes, and the relationships between them as edges. This structure enables the visualization of intricate relationships within a body of text or between different texts. Traditional NLP methods often rely on linear models and vector space representations, which can limit the understanding of nuanced relationships inherent in natural language. By contrast, graph-based representations afford greater flexibility and insight into how words and phrases interact in various contexts.\\n\\nOne of the primary advantages of LangGraph is its ability to capture semantic relationships. For example, synonyms, antonyms, hypernyms, and meronyms can all be represented as nodes in a graph, with edges defining their relationships. This allows for more sophisticated language applications, such as improved machine translation, sentiment analysis, and information retrieval. The gradients of meaning and context can be more effectively mapped, leading to a richer understanding of how language works.\\n\\nMoreover, LangGraph can be highly beneficial in tasks involving knowledge representation and reasoning. It can integrate external knowledge bases, allowing systems to leverage vast reservoirs of information by connecting textual data with structured ontologies or databases. For instance, integrating a LangGraph with a knowledge graph may enhance a system’s ability to answer complex queries by providing contextual insights that are otherwise difficult to achieve through conventional methods.\\n\\nIn practical applications, LangGraph can be used to enhance conversational agents and chatbots, enabling them to engage more meaningfully with users. By better understanding the relationships between user intents, they can respond with greater relevance and accuracy. For example, if a user inquires about the weather in a certain city, a LangGraph-powered system can discern not only the specific city mentioned, but also related entities such as nearby regions, weather patterns, and outdoor activities that may be affected by the weather.\\n\\nResearch in this area is rapidly evolving, with ongoing initiatives to optimize algorithms for creating and traversing LangGraphs. Advances in deep learning and graph neural networks are particularly promising, enabling models to learn from both the structure of language and the context in which it appears. These breakthroughs can result in more intelligent systems that not only understand language but can also reason about it, making connections that humans might make intuitively.\\n\\nIn summary, LangGraph represents a significant step forward in the field of natural language processing by employing graph-based techniques to model and analyze language. By enhancing our understanding of the relationships and structures within language, LangGraph has the potential to revolutionize applications ranging from virtual assistants to advanced semantic search engines. As we continue to develop and refine these techniques, we can anticipate a future where machines can grasp the subtleties of human language with unprecedented accuracy and depth. This not only enhances user experience but also paves the way for new technologies and applications that leverage the complexity and richness of human language.' additional_kwargs={'refusal': None} response_metadata={'token_usage': {'completion_tokens': 642, 'prompt_tokens': 16, 'total_tokens': 658, 'completion_tokens_details': {'accepted_prediction_tokens': 0, 'audio_tokens': 0, 'reasoning_tokens': 0, 'rejected_prediction_tokens': 0}, 'prompt_tokens_details': {'audio_tokens': 0, 'cached_tokens': 0}}, 'model_name': 'gpt-4o-mini-2024-07-18', 'system_fingerprint': 'fp_34a54ae93c', 'id': 'chatcmpl-C2CVGmhVTZGYf6uxPUcHqBTmletPT', 'service_tier': 'default', 'finish_reason': 'stop', 'logprobs': None} id='run--067b05b9-be87-48d0-99b5-923f2e7cdccf-0' usage_metadata={'input_tokens': 16, 'output_tokens': 642, 'total_tokens': 658, 'input_token_details': {'audio': 0, 'cache_read': 0}, 'output_token_details': {'audio': 0, 'reasoning': 0}}\n"
     ]
    }
   ],
   "source": [
    "query=\"give me 500 words on langgraph?\"\n",
    "response =cache_model(query)\n",
    "print(response)"
   ]
  },
  {
   "cell_type": "markdown",
   "id": "5083b6b7",
   "metadata": {},
   "source": [
    "### Advanced CAG"
   ]
  },
  {
   "cell_type": "code",
   "execution_count": 22,
   "id": "bf663496",
   "metadata": {},
   "outputs": [],
   "source": [
    "from __future__ import annotations\n",
    "from typing import TypedDict, List, Optional\n",
    "import time\n",
    "\n",
    "# ---- LangGraph / LangChain ----\n",
    "from langgraph.graph import StateGraph, END\n",
    "from langgraph.checkpoint.memory import MemorySaver\n",
    "\n",
    "from langchain_core.documents import Document\n",
    "from langchain_openai import ChatOpenAI\n",
    "from langchain.embeddings import HuggingFaceEmbeddings\n",
    "\n",
    "# ---- FAISS vector stores ----\n",
    "import faiss\n",
    "from langchain_community.vectorstores import FAISS\n",
    "from langchain_community.docstore.in_memory import InMemoryDocstore"
   ]
  },
  {
   "cell_type": "code",
   "execution_count": 24,
   "id": "0bb0e1ef",
   "metadata": {},
   "outputs": [],
   "source": [
    "# ================= CONFIG =================\n",
    "EMBED_MODEL = \"sentence-transformers/all-MiniLM-L6-v2\"  # 384-dim\n",
    "VECTOR_DIM = 384\n",
    "\n",
    "LLM_MODEL = \"gpt-4o-mini\"\n",
    "LLM_TEMPERATURE = 0\n",
    "\n",
    "RETRIEVE_TOP_K = 4\n",
    "CACHE_TOP_K = 3\n",
    "\n",
    "CACHE_DISTANCE_THRESHOLD = 0.45\n",
    "\n",
    "# Optional TTL for cache entries (seconds). 0 = disabled.\n",
    "CACHE_TTL_SEC = 0\n"
   ]
  },
  {
   "cell_type": "code",
   "execution_count": 25,
   "id": "298cde63",
   "metadata": {},
   "outputs": [],
   "source": [
    "# ================= STATE ==================\n",
    "class RAGState(TypedDict):\n",
    "    question: str\n",
    "    normalized_question: str\n",
    "    context_docs: List[Document]\n",
    "    answer: Optional[str]\n",
    "    citations: List[str]\n",
    "    cache_hit: bool"
   ]
  },
  {
   "cell_type": "code",
   "execution_count": 27,
   "id": "55558c9a",
   "metadata": {},
   "outputs": [],
   "source": [
    "# ============== GLOBALS ===================\n",
    "from langchain_huggingface import HuggingFaceEmbeddings\n",
    "EMBED = HuggingFaceEmbeddings(model_name=EMBED_MODEL)"
   ]
  },
  {
   "cell_type": "code",
   "execution_count": 28,
   "id": "e9791f01",
   "metadata": {},
   "outputs": [],
   "source": [
    "# ----- QA CACHE (EMPTY, SAFE INIT) -----\n",
    "qa_index = faiss.IndexFlatL2(VECTOR_DIM)  # distance; lower is better\n",
    "QA_CACHE = FAISS(\n",
    "    embedding_function=EMBED,\n",
    "    index=qa_index,\n",
    "    docstore=InMemoryDocstore({}),\n",
    "    index_to_docstore_id={}\n",
    ")"
   ]
  },
  {
   "cell_type": "code",
   "execution_count": 29,
   "id": "ff36b896",
   "metadata": {},
   "outputs": [
    {
     "data": {
      "text/plain": [
       "<langchain_community.vectorstores.faiss.FAISS at 0x218f8918d70>"
      ]
     },
     "execution_count": 29,
     "metadata": {},
     "output_type": "execute_result"
    }
   ],
   "source": [
    "QA_CACHE"
   ]
  },
  {
   "cell_type": "code",
   "execution_count": 30,
   "id": "080fa22e",
   "metadata": {},
   "outputs": [],
   "source": [
    "# ----- RAG STORE (demo only) -----\n",
    "RAG_STORE = FAISS.from_texts(\n",
    "    texts=[\n",
    "        \"LangGraph lets you compose stateful LLM workflows as graphs.\",\n",
    "        \"In LangGraph, nodes can be cached; node caching memoizes outputs keyed by inputs for a TTL.\",\n",
    "        \"Retrieval-Augmented Generation (RAG) retrieves external context and injects it into prompts.\",\n",
    "        \"Semantic caching reuses prior answers when new questions are semantically similar.\"\n",
    "    ],\n",
    "    embedding=EMBED,\n",
    ")"
   ]
  },
  {
   "cell_type": "code",
   "execution_count": 31,
   "id": "e0cc311a",
   "metadata": {},
   "outputs": [],
   "source": [
    "LLM = ChatOpenAI(model=LLM_MODEL, temperature=LLM_TEMPERATURE)"
   ]
  },
  {
   "cell_type": "code",
   "execution_count": 34,
   "id": "d43f16f6",
   "metadata": {},
   "outputs": [
    {
     "data": {
      "text/plain": [
       "ChatOpenAI(client=<openai.resources.chat.completions.completions.Completions object at 0x00000218F89F4510>, async_client=<openai.resources.chat.completions.completions.AsyncCompletions object at 0x00000218F89F48A0>, root_client=<openai.OpenAI object at 0x00000218F89F42B0>, root_async_client=<openai.AsyncOpenAI object at 0x00000218F89F4640>, model_name='gpt-4o-mini', temperature=0.0, model_kwargs={}, openai_api_key=SecretStr('**********'))"
      ]
     },
     "execution_count": 34,
     "metadata": {},
     "output_type": "execute_result"
    }
   ],
   "source": [
    "LLM\n"
   ]
  },
  {
   "cell_type": "code",
   "execution_count": 35,
   "id": "997e26d3",
   "metadata": {},
   "outputs": [],
   "source": [
    "# ================ NODES ===================\n",
    "def normalize_query(state: RAGState) -> RAGState:\n",
    "    q = (state[\"question\"] or \"\").strip()\n",
    "    state[\"normalized_question\"] = q.lower()\n",
    "    return state\n",
    "\n",
    "def semantic_cache_lookup(state: RAGState) -> RAGState:\n",
    "    q = state[\"normalized_question\"]\n",
    "    state[\"cache_hit\"] = False  # default\n",
    "\n",
    "    if not q:\n",
    "        return state\n",
    "\n",
    "    # ✅ Guard: FAISS crashes if ntotal == 0 and you ask for k>0\n",
    "    if getattr(QA_CACHE, \"index\", None) is None or QA_CACHE.index.ntotal == 0:\n",
    "        return state\n",
    "\n",
    "    # For FAISS L2 wrapper, this returns (Document, distance) with lower=better\n",
    "    hits = QA_CACHE.similarity_search_with_score(q, k=CACHE_TOP_K)\n",
    "    if not hits:\n",
    "        return state\n",
    "\n",
    "    best_doc, dist = hits[0]\n",
    "\n",
    "    # Optional TTL\n",
    "    if CACHE_TTL_SEC > 0:\n",
    "        ts = best_doc.metadata.get(\"ts\")\n",
    "        if ts is None or (time.time() - float(ts)) > CACHE_TTL_SEC:\n",
    "            return state\n",
    "\n",
    "    # L2 distance gate (lower = more similar)\n",
    "    if dist <= CACHE_DISTANCE_THRESHOLD:\n",
    "        cached_answer = best_doc.metadata.get(\"answer\")\n",
    "        if cached_answer:\n",
    "            state[\"answer\"] = cached_answer\n",
    "            state[\"citations\"] = [\"(cache)\"]\n",
    "            state[\"cache_hit\"] = True\n",
    "\n",
    "    return state\n",
    "\n",
    "def respond_from_cache(state: RAGState) -> RAGState:\n",
    "    return state\n",
    "\n",
    "def retrieve(state: RAGState) -> RAGState:\n",
    "    q = state[\"normalized_question\"]\n",
    "    docs = RAG_STORE.similarity_search(q, k=RETRIEVE_TOP_K)\n",
    "    state[\"context_docs\"] = docs\n",
    "    return state\n",
    "\n",
    "def generate(state: RAGState) -> RAGState:\n",
    "    q = state[\"question\"]\n",
    "    docs = state.get(\"context_docs\", [])\n",
    "    ctx = \"\\n\\n\".join([f\"[doc-{i}] {d.page_content}\" for i, d in enumerate(docs, start=1)])\n",
    "\n",
    "    system = (\n",
    "        \"You are a precise RAG assistant. Use the context when helpful. \"\n",
    "        \"Cite with [doc-i] markers if you use a fact from the context.\"\n",
    "    )\n",
    "    user = f\"Question: {q}\\n\\nContext:\\n{ctx}\\n\\nWrite a concise answer with citations.\"\n",
    "\n",
    "    resp = LLM.invoke([{\"role\": \"system\", \"content\": system},\n",
    "                       {\"role\": \"user\", \"content\": user}])\n",
    "    state[\"answer\"] = resp.content\n",
    "    state[\"citations\"] = [f\"[doc-{i}]\" for i in range(1, len(docs) + 1)]\n",
    "    return state\n",
    "\n",
    "def cache_write(state: RAGState) -> RAGState:\n",
    "    q = state[\"normalized_question\"]\n",
    "    a = state.get(\"answer\")\n",
    "    if not q or not a:\n",
    "        return state\n",
    "\n",
    "    QA_CACHE.add_texts(\n",
    "        texts=[q],\n",
    "        metadatas=[{\n",
    "            \"answer\": a,\n",
    "            \"ts\": time.time(),\n",
    "        }]\n",
    "    )\n",
    "    return state"
   ]
  },
  {
   "cell_type": "code",
   "execution_count": 36,
   "id": "462f44af",
   "metadata": {},
   "outputs": [
    {
     "data": {
      "image/png": "[encoded data removed]",
      "text/plain": [
       "<langgraph.graph.state.CompiledStateGraph object at 0x00000218F8919A90>"
      ]
     },
     "execution_count": 36,
     "metadata": {},
     "output_type": "execute_result"
    }
   ],
   "source": [
    "# ============== GRAPH WIRING ==============\n",
    "graph = StateGraph(RAGState)\n",
    "\n",
    "graph.add_node(\"normalize_query\", normalize_query)\n",
    "graph.add_node(\"semantic_cache_lookup\", semantic_cache_lookup)\n",
    "graph.add_node(\"respond_from_cache\", respond_from_cache)\n",
    "graph.add_node(\"retrieve\", retrieve)\n",
    "graph.add_node(\"generate\", generate)\n",
    "graph.add_node(\"cache_write\", cache_write)\n",
    "\n",
    "graph.set_entry_point(\"normalize_query\")\n",
    "graph.add_edge(\"normalize_query\", \"semantic_cache_lookup\")\n",
    "\n",
    "def _branch(state: RAGState) -> str:\n",
    "    return \"respond_from_cache\" if state.get(\"cache_hit\") else \"retrieve\"\n",
    "\n",
    "graph.add_conditional_edges(\n",
    "    \"semantic_cache_lookup\",\n",
    "    _branch,\n",
    "    {\n",
    "        \"respond_from_cache\": \"respond_from_cache\",\n",
    "        \"retrieve\": \"retrieve\"\n",
    "    }\n",
    ")\n",
    "\n",
    "graph.add_edge(\"respond_from_cache\", END)\n",
    "graph.add_edge(\"retrieve\", \"generate\")\n",
    "graph.add_edge(\"generate\", \"cache_write\")\n",
    "graph.add_edge(\"cache_write\", END)\n",
    "\n",
    "memory = MemorySaver()\n",
    "app = graph.compile(checkpointer=memory)\n",
    "app"
   ]
  },
  {
   "cell_type": "code",
   "execution_count": 37,
   "id": "ba9bde2c",
   "metadata": {},
   "outputs": [
    {
     "name": "stdout",
     "output_type": "stream",
     "text": [
      "Answer: LangGraph is a framework that allows users to compose stateful workflows for large language models (LLMs) in the form of graphs, enabling the management of complex interactions and processes [doc-2]. It also features node caching, which memoizes outputs based on inputs for a specified time-to-live (TTL) [doc-1].\n",
      "Citations: ['[doc-1]', '[doc-2]', '[doc-3]', '[doc-4]']\n",
      "Cache hit?: False\n"
     ]
    }
   ],
   "source": [
    "# ================= DEMO ===================\n",
    "if __name__ == \"__main__\":\n",
    "    thread_cfg = {\"configurable\": {\"thread_id\": \"demo-user-1\"}}\n",
    "\n",
    "    q1 = \"What is LangGraph ?\"\n",
    "    out1 = app.invoke({\"question\": q1, \"context_docs\": [], \"citations\": []}, thread_cfg)\n",
    "    print(\"Answer:\", out1[\"answer\"])\n",
    "    print(\"Citations:\", out1.get(\"citations\"))\n",
    "    print(\"Cache hit?:\", out1.get(\"cache_hit\"))"
   ]
  },
  {
   "cell_type": "code",
   "execution_count": 38,
   "id": "2039bde5",
   "metadata": {},
   "outputs": [
    {
     "name": "stdout",
     "output_type": "stream",
     "text": [
      "Answer: LangGraph is a framework that allows users to compose stateful workflows for large language models (LLMs) in the form of graphs, enabling the management of complex interactions and processes [doc-2]. It also features node caching, which memoizes outputs based on inputs for a specified time-to-live (TTL) [doc-1].\n",
      "Citations: ['(cache)']\n",
      "Cache hit?: True\n"
     ]
    }
   ],
   "source": [
    "q1 = \"Explain about LangGraph ?\"\n",
    "out1 = app.invoke({\"question\": q1, \"context_docs\": [], \"citations\": []}, thread_cfg)\n",
    "print(\"Answer:\", out1[\"answer\"])\n",
    "print(\"Citations:\", out1.get(\"citations\"))\n",
    "print(\"Cache hit?:\", out1.get(\"cache_hit\"))"
   ]
  },
  {
   "cell_type": "code",
   "execution_count": 39,
   "id": "1c8d9021",
   "metadata": {},
   "outputs": [
    {
     "name": "stdout",
     "output_type": "stream",
     "text": [
      "Answer: LangGraph agents are part of a framework that allows users to compose stateful workflows using large language models (LLMs) represented as graphs [doc-2]. These agents can utilize features like node caching, which memoizes outputs based on inputs for a specified time-to-live (TTL) [doc-1]. Additionally, they can leverage retrieval-augmented generation (RAG) to fetch external context and incorporate it into prompts, enhancing the quality of responses [doc-3]. Furthermore, LangGraph supports semantic caching, which enables the reuse of previous answers when new queries are semantically similar, improving efficiency and response time [doc-4].\n",
      "Citations: ['[doc-1]', '[doc-2]', '[doc-3]', '[doc-4]']\n",
      "Cache hit?: False\n"
     ]
    }
   ],
   "source": [
    "q1 = \"Explain about LangGraph agents ?\"\n",
    "out1 = app.invoke({\"question\": q1, \"context_docs\": [], \"citations\": []}, thread_cfg)\n",
    "print(\"Answer:\", out1[\"answer\"])\n",
    "print(\"Citations:\", out1.get(\"citations\"))\n",
    "print(\"Cache hit?:\", out1.get(\"cache_hit\"))"
   ]
  },
  {
   "cell_type": "code",
   "execution_count": 40,
   "id": "d890c065",
   "metadata": {},
   "outputs": [
    {
     "name": "stdout",
     "output_type": "stream",
     "text": [
      "Answer: LangGraph agents are part of a framework that allows users to compose stateful workflows using large language models (LLMs) represented as graphs [doc-2]. These agents can utilize features like node caching, which memoizes outputs based on inputs for a specified time-to-live (TTL) [doc-1]. Additionally, they can leverage retrieval-augmented generation (RAG) to fetch external context and incorporate it into prompts, enhancing the quality of responses [doc-3]. Furthermore, LangGraph supports semantic caching, which enables the reuse of previous answers when new queries are semantically similar, improving efficiency and response time [doc-4].\n",
      "Citations: ['(cache)']\n",
      "Cache hit?: True\n"
     ]
    }
   ],
   "source": [
    "q1 = \"Explain about agents in Langgraph ?\"\n",
    "out1 = app.invoke({\"question\": q1, \"context_docs\": [], \"citations\": []}, thread_cfg)\n",
    "print(\"Answer:\", out1[\"answer\"])\n",
    "print(\"Citations:\", out1.get(\"citations\"))\n",
    "print(\"Cache hit?:\", out1.get(\"cache_hit\"))"
   ]
  }
 ],
 "metadata": {
  "kernelspec": {
   "display_name": "RAGS",
   "language": "python",
   "name": "python3"
  },
  "language_info": {
   "codemirror_mode": {
    "name": "ipython",
    "version": 3
   },
   "file_extension": ".py",
   "mimetype": "text/x-python",
   "name": "python",
   "nbconvert_exporter": "python",
   "pygments_lexer": "ipython3",
   "version": "3.13.2"
  }
 },
 "nbformat": 4,
 "nbformat_minor": 5
}
