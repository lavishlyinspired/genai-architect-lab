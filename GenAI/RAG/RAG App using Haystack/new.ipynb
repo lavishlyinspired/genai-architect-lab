{
 "cells": [
  {
   "cell_type": "code",
   "execution_count": null,
   "id": "1bd38b63",
   "metadata": {},
   "outputs": [],
   "source": [
    "print(\"new\")"
   ]
  }
 ],
 "metadata": {
  "language_info": {
   "name": "python"
  }
 },
 "nbformat": 4,
 "nbformat_minor": 5
}
