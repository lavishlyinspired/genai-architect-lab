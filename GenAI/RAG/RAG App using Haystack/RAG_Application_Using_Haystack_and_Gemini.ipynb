{
 "cells": [
  {
   "cell_type": "code",
   "execution_count": null,
   "id": "5ffd2c34",
   "metadata": {},
   "outputs": [],
   "source": [
    "print(\"Hello World how are You\")"
   ]
  },
  {
   "cell_type": "code",
   "execution_count": null,
   "id": "aaee4831",
   "metadata": {},
   "outputs": [],
   "source": [
    "from haystack.document_stores.in_memory import InMemoryDocumentStore\n",
    "from haystack.components.embedders import SentenceTransformersDocumentEmbedder\n",
    "from datasets import load_dataset\n",
    "from haystack import Document\n",
    "document_store = InMemoryDocumentStore()"
   ]
  },
  {
   "cell_type": "code",
   "execution_count": null,
   "id": "fa0b0967",
   "metadata": {},
   "outputs": [],
   "source": [
    "dataset = load_dataset('FreedomIntelligence/medical-o1-reasoning-SFT', 'en', split ='train')\n"
   ]
  },
  {
   "cell_type": "code",
   "execution_count": 76,
   "id": "f3115684",
   "metadata": {},
   "outputs": [
    {
     "data": {
      "text/plain": [
       "Dataset({\n",
       "    features: ['Question', 'Complex_CoT', 'Response'],\n",
       "    num_rows: 19704\n",
       "})"
      ]
     },
     "execution_count": 76,
     "metadata": {},
     "output_type": "execute_result"
    }
   ],
   "source": [
    "dataset"
   ]
  },
  {
   "cell_type": "code",
   "execution_count": 161,
   "id": "b4f0b2ad",
   "metadata": {},
   "outputs": [
    {
     "data": {
      "text/plain": [
       "Dataset({\n",
       "    features: ['Question', 'Complex_CoT', 'Response'],\n",
       "    num_rows: 19704\n",
       "})"
      ]
     },
     "execution_count": 161,
     "metadata": {},
     "output_type": "execute_result"
    }
   ],
   "source": [
    "\n",
    "\n",
    "dataset\n"
   ]
  },
  {
   "cell_type": "code",
   "execution_count": 125,
   "id": "c2da10cd",
   "metadata": {},
   "outputs": [],
   "source": [
    "# limit dataset to top 1000 rows\n",
    "subset = dataset.select(range(1000))\n",
    "\n",
    "# build docs list\n",
    "#docs = [Document(content=doc[\"Question\"], meta=doc[\"Response\"]) for doc in subset]\n",
    "docs = [\n",
    "    Document(\n",
    "        content=doc[\"Question\"], \n",
    "        meta={\n",
    "            \"response\": doc[\"Response\"],\n",
    "            \"complex_cot\": doc[\"Complex_CoT\"]\n",
    "        }\n",
    "    )\n",
    "    for doc in subset\n",
    "]\n",
    "\n"
   ]
  },
  {
   "cell_type": "code",
   "execution_count": 163,
   "id": "52d18a48",
   "metadata": {},
   "outputs": [],
   "source": [
    "\n",
    "doc_embedder = SentenceTransformersDocumentEmbedder(model=\"sentence-transformers/all-MiniLM-L6-v2\")\n",
    "\n",
    "\n",
    "doc_embedder.warm_up()"
   ]
  },
  {
   "cell_type": "code",
   "execution_count": 164,
   "id": "8a17e40a",
   "metadata": {},
   "outputs": [
    {
     "name": "stderr",
     "output_type": "stream",
     "text": [
      "Batches: 100%|██████████| 32/32 [00:38<00:00,  1.22s/it]\n"
     ]
    }
   ],
   "source": [
    "docs_with_embeddings = doc_embedder.run(docs)"
   ]
  },
  {
   "cell_type": "code",
   "execution_count": 189,
   "id": "7023d85d",
   "metadata": {},
   "outputs": [],
   "source": [
    "#docs_with_embeddings"
   ]
  },
  {
   "cell_type": "code",
   "execution_count": null,
   "id": "403e30ac",
   "metadata": {},
   "outputs": [
    {
     "data": {
      "text/plain": [
       "1000"
      ]
     },
     "execution_count": 136,
     "metadata": {},
     "output_type": "execute_result"
    }
   ],
   "source": [
    "from haystack.document_stores.in_memory import InMemoryDocumentStore\n",
    "\n",
    "\n",
    "document_store = InMemoryDocumentStore()  # fresh, empty store\n",
    "\n",
    "\n",
    "document_store.write_documents(docs_with_embeddings[\"documents\"])"
   ]
  },
  {
   "cell_type": "code",
   "execution_count": 137,
   "id": "6a1002b2",
   "metadata": {},
   "outputs": [],
   "source": [
    "from haystack.components.embedders import SentenceTransformersTextEmbedder\n",
    "\n",
    "text_embedder = SentenceTransformersTextEmbedder(model=\"sentence-transformers/all-MiniLM-L6-v2\")"
   ]
  },
  {
   "cell_type": "code",
   "execution_count": 138,
   "id": "f07720c6",
   "metadata": {},
   "outputs": [],
   "source": [
    "from haystack.components.retrievers.in_memory import InMemoryEmbeddingRetriever\n",
    "\n",
    "retriever = InMemoryEmbeddingRetriever(document_store)"
   ]
  },
  {
   "cell_type": "code",
   "execution_count": 139,
   "id": "c979ba5a",
   "metadata": {},
   "outputs": [
    {
     "data": {
      "text/plain": [
       "<haystack.components.retrievers.in_memory.embedding_retriever.InMemoryEmbeddingRetriever object at 0x00000168BEB200B0>\n",
       "Inputs:\n",
       "  - query_embedding: list[float]\n",
       "  - filters: Optional[dict[str, Any]]\n",
       "  - top_k: Optional[int]\n",
       "  - scale_score: Optional[bool]\n",
       "  - return_embedding: Optional[bool]\n",
       "Outputs:\n",
       "  - documents: list[Document]"
      ]
     },
     "execution_count": 139,
     "metadata": {},
     "output_type": "execute_result"
    }
   ],
   "source": [
    "retriever"
   ]
  },
  {
   "cell_type": "code",
   "execution_count": 170,
   "id": "f3196eaf",
   "metadata": {},
   "outputs": [
    {
     "name": "stderr",
     "output_type": "stream",
     "text": [
      "PromptBuilder has 2 prompt variables, but `required_variables` is not set. By default, all prompt variables are treated as optional, which may lead to unintended behavior in multi-branch pipelines. To avoid unexpected execution, ensure that variables intended to be required are explicitly set in `required_variables`.\n"
     ]
    }
   ],
   "source": [
    "from haystack.components.builders import PromptBuilder\n",
    "\n",
    "template = \"\"\"\n",
    "Given the following information, answer the question.\n",
    "\n",
    "Context:\n",
    "{% for document in documents %}\n",
    "    {{ document.content }}\n",
    "{% endfor %}\n",
    "\n",
    "Question: {{question}}\n",
    "Answer:\n",
    "\"\"\"\n",
    "\n",
    "prompt_builder = PromptBuilder(template=template)"
   ]
  },
  {
   "cell_type": "code",
   "execution_count": 171,
   "id": "3afd1282",
   "metadata": {},
   "outputs": [
    {
     "data": {
      "text/plain": [
       "<haystack.components.builders.prompt_builder.PromptBuilder object at 0x00000168B24C90D0>\n",
       "Inputs:\n",
       "  - documents: Any\n",
       "  - question: Any\n",
       "  - template: Optional[str]\n",
       "  - template_variables: Optional[dict[str, Any]]\n",
       "Outputs:\n",
       "  - prompt: str"
      ]
     },
     "execution_count": 171,
     "metadata": {},
     "output_type": "execute_result"
    }
   ],
   "source": [
    "prompt_builder"
   ]
  },
  {
   "cell_type": "code",
   "execution_count": 143,
   "id": "084f0666",
   "metadata": {},
   "outputs": [],
   "source": [
    "import os\n",
    "from haystack_integrations.components.generators.google_ai import GoogleAIGeminiGenerator\n",
    "from dotenv import load_dotenv\n",
    "load_dotenv\n",
    "os.environ[\"GOOGLE_API_KEY\"] = os.getenv(\"GOOGLE_API_KEY\")\n",
    "\n"
   ]
  },
  {
   "cell_type": "code",
   "execution_count": 144,
   "id": "f23978e0",
   "metadata": {},
   "outputs": [],
   "source": [
    "\n",
    "gemini = GoogleAIGeminiGenerator(model=\"gemini-1.5-flash\")"
   ]
  },
  {
   "cell_type": "code",
   "execution_count": 145,
   "id": "d7e7f420",
   "metadata": {},
   "outputs": [],
   "source": [
    "\n",
    "res = gemini.run(parts = [\"What is this document about?\"])"
   ]
  },
  {
   "cell_type": "code",
   "execution_count": 103,
   "id": "dcaa6a49",
   "metadata": {},
   "outputs": [
    {
     "data": {
      "text/plain": [
       "{'replies': ['Please provide me with the document. I need the text of the document to tell you what it is about.\\n']}"
      ]
     },
     "execution_count": 103,
     "metadata": {},
     "output_type": "execute_result"
    }
   ],
   "source": [
    "res"
   ]
  },
  {
   "cell_type": "code",
   "execution_count": 146,
   "id": "d5335712",
   "metadata": {},
   "outputs": [],
   "source": [
    "from haystack import Pipeline\n",
    "\n",
    "basic_rag_pipeline = Pipeline()"
   ]
  },
  {
   "cell_type": "code",
   "execution_count": 167,
   "id": "fc5ea110",
   "metadata": {},
   "outputs": [
    {
     "data": {
      "text/plain": [
       "<haystack.components.builders.prompt_builder.PromptBuilder object at 0x00000168BE8A2990>\n",
       "prompt_builder\n",
       "Inputs:\n",
       "  - documents: Any\n",
       "  - question: Any\n",
       "  - template: Optional[str]\n",
       "  - template_variables: Optional[dict[str, Any]]\n",
       "Outputs:\n",
       "  - prompt: str"
      ]
     },
     "execution_count": 167,
     "metadata": {},
     "output_type": "execute_result"
    }
   ],
   "source": [
    "prompt_builder"
   ]
  },
  {
   "cell_type": "code",
   "execution_count": 147,
   "id": "507e89e8",
   "metadata": {},
   "outputs": [],
   "source": [
    "# Add components to your pipeline\n",
    "basic_rag_pipeline.add_component(\"text_embedder\", text_embedder)\n",
    "basic_rag_pipeline.add_component(\"retriever\", retriever)\n",
    "basic_rag_pipeline.add_component(\"prompt_builder\", prompt_builder)\n",
    "basic_rag_pipeline.add_component(\"llm\", gemini)"
   ]
  },
  {
   "cell_type": "code",
   "execution_count": 148,
   "id": "43ee772a",
   "metadata": {},
   "outputs": [
    {
     "data": {
      "text/plain": [
       "<haystack.core.pipeline.pipeline.Pipeline object at 0x00000168BEB30860>\n",
       "🚅 Components\n",
       "  - text_embedder: SentenceTransformersTextEmbedder\n",
       "  - retriever: InMemoryEmbeddingRetriever\n",
       "  - prompt_builder: PromptBuilder\n",
       "  - llm: GoogleAIGeminiGenerator\n",
       "🛤️ Connections\n",
       "  - text_embedder.embedding -> retriever.query_embedding (list[float])\n",
       "  - retriever.documents -> prompt_builder.documents (list[Document])\n",
       "  - prompt_builder.prompt -> llm.parts (str)"
      ]
     },
     "execution_count": 148,
     "metadata": {},
     "output_type": "execute_result"
    }
   ],
   "source": [
    "# Now, connect the components to each other\n",
    "basic_rag_pipeline.connect(\"text_embedder.embedding\", \"retriever.query_embedding\")\n",
    "basic_rag_pipeline.connect(\"retriever\", \"prompt_builder.documents\")\n",
    "basic_rag_pipeline.connect(\"prompt_builder\", \"llm\")\n"
   ]
  },
  {
   "cell_type": "code",
   "execution_count": 151,
   "id": "79389d0d",
   "metadata": {},
   "outputs": [],
   "source": [
    "question = \"hat is the most likely diagnosis for a 2-year-old 70 kg child?\""
   ]
  },
  {
   "cell_type": "code",
   "execution_count": null,
   "id": "7fb98792",
   "metadata": {},
   "outputs": [
    {
     "name": "stderr",
     "output_type": "stream",
     "text": [
      "Batches: 100%|██████████| 1/1 [00:00<00:00, 38.46it/s]\n"
     ]
    }
   ],
   "source": [
    "#response = basic_rag_pipeline.run({\"text_embedder\": {\"text\": question}, \"prompt_builder\": {\"question\": question}})\n",
    "\n",
    "response = basic_rag_pipeline.run(\n",
    "    {\"text_embedder\": {\"text\": question},\"prompt_builder\": {\"question\": question}},\n",
    "    include_outputs_from={\"retriever\", \"prompt_builder\"})"
   ]
  },
  {
   "cell_type": "code",
   "execution_count": 187,
   "id": "9716b773",
   "metadata": {},
   "outputs": [
    {
     "name": "stdout",
     "output_type": "stream",
     "text": [
      "dict_keys(['retriever', 'prompt_builder', 'llm'])\n",
      "{'retriever': {'documents': [Document(id=645044a230641633ed49bad016c572decde07df578712f8e6fe0e1bd3fa99912, content: 'What is the most likely diagnosis for a 2-year-old 70 kg child who presents with limitation of abduc...', meta: {'response': 'Based on the described symptoms and the unusual weight for a 2-year-old child, the most likely diagnosis is Slipped Capital Femoral Epiphysis (SCFE). Even though SCFE typically occurs in older children, mainly adolescents, the combination of excessive weight, limited hip abduction and internal rotation, tenderness in the hip area, and the characteristic limb movement (abduction upon hip flexion) strongly points towards SCFE as the most plausible diagnosis in this scenario.', 'complex_cot': \"Okay, so we're dealing with a 2-year-old child here. But wait, this kid is listed as 70 kg – that's a lot for a toddler! It might be a typo, or maybe there's something else going on. Anyway, let's focus on the symptoms.\\n\\nThis child can't abduct the hip or internally rotate it very well. That generally screams hip issues. We're looking at something more than just temporary discomfort, I think.\\n\\nThere's tenderness in the Scarpa’s triangle. That points us right to the hip, to something maybe structural or possibly some inflammation around the joint. So, the focus needs to stay around the hip region.\\n\\nHere's something interesting: when you flex the hip, the limb abducts. That feels like a tell-tale sign. Normally, you'd associate this with instability or maybe a slipped joint or something affecting the way the joint moves.\\n\\nTransient synovitis is a common condition in young kids that affects the hip – it makes sense initially since it causes hip pain and a limp. But, hmm, that doesn’t line up perfectly with the limb movement upon flexion.\\n\\nWe must consider hip dysplasia or even something affecting joint congruence, but keeping age in mind, these shouldn't be the first thoughts.\\n\\nNow, considering this obvious weight issue combined with hip symptoms: has to lead us to think about conditions tied to growth or structural issues.\\n\\nOn the other hand, slipped capital femoral epiphysis (SCFE) is more common in older kids, true, but it's also linked with heavier weight, and that annoying abduction on flexion does fit.\\n\\nLet’s face it, the child’s weight and the weird abduction movement on flexion make SCFE pretty suspicious, even if the kid is very young for it.\\n\\nLogically, considering all these factors and given the hip symptoms and the weight, the signs point more convincingly towards SCFE. And yes, this seems like the most plausible conclusion given the current scenario. Even if it's a stretch for their age.\"}, score: 0.6810894155545306), Document(id=f5e681d597e7495b0c7db7b22f0b1595f79e5e2e84be73f56d4dbb48185980fe, content: 'A 4-year-old boy presents with developmental delays, including delayed walking and difficulty using ...', meta: {'response': 'The clinical features described in this 4-year-old boy point towards homocystinuria, a metabolic disorder caused by a deficiency of the enzyme cystathionine beta-synthase. This condition can manifest with developmental delays, marfanoid features such as tall stature and slender fingers, as well as specific ocular abnormalities like bilateral inferior lens dislocation. The combination of these features, along with easily extendable and stretchy skin, aligns well with the presentation of homocystinuria rather than other connective tissue disorders. Therefore, the most likely cause of his condition is cystathionine beta-synthase deficiency.', 'complex_cot': \"Alright, let's think about this little boy's situation. He’s just four years old but seems to be experiencing developmental delays, like not walking as early as expected and having trouble using silverware. He’s speaking in two-word sentences, which suggests he might be behind in communication skills too. And then, there's this specific detail that he can build a tower of four blocks and scribble but struggles with drawing a circle.\\n\\nNow, those physical features stand out. Bilateral inferior lens dislocation certainly catches my eye because that’s not something you see every day. And what about those long and slender fingers, a high-arched palate, and the fact that when he grips a wrist, his thumb and fifth finger overlap? These are distinct markers. Oh, and I can’t ignore the stretchy skin over his neck. This immediately makes me think of connective tissue disorders.\\n\\nWhen looking at his growth, he’s incredibly tall for his age – above the 99th percentile – but his weight is lagging at only the 15th percentile. So, he’s much taller and leaner than typical kids his age, which kind of makes me think about conditions like Marfan syndrome where people are unusually tall and thin.\\n\\nBut there’s more to consider – developmental delays, hmm, they could point towards something like homocystinuria, which is known for having both physical abnormalities and cognitive challenges. Yes, the lens dislocation is interesting because in homocystinuria, it usually moves inferiorly, just like in this case.\\n\\nNow, while Marfan syndrome also involves lens dislocation and tall stature, the stretchy skin isn’t really a highlight there – that’s more seen in conditions like Ehlers-Danlos syndrome – but Ehlers-Danlos doesn’t usually cause lens dislocation. So that's something.\\n\\nLet's not miss that the combination of inferior lens dislocation, tall thin body build, delayed development, and some unique body features - really brings me back to homocystinuria. Add the fact that this involves a metabolic disorder caused by a lack of the enzyme cystathionine beta-synthase, and it seems to make sense.\\n\\nPutting all these clues together – the developmental delays, the specific type of lens dislocation, marfanoid features, and connective tissue involvement – it’s most likely homocystinuria. So, there’s a pretty clear picture now, this boy’s condition most likely results from cystathionine beta-synthase deficiency.\"}, score: 0.6370077817182915), Document(id=4e8c35c6e7564c602633d71096b07202237c24a52acb1e0ae797267de44501e6, content: 'Based on the presentation of a 2-year-old boy with cough, fever, difficulty in breathing, a respirat...', meta: {'response': \"Based on the symptoms you've described, the most probable diagnosis for the 2-year-old boy is pneumonia. The key indicators were the cough, fever, rapid breathing rate of 50 breaths per minute, and bilateral crepitations heard on chest auscultation, all of which are typical signs of pneumonia in children. The lack of chest indrawing suggests that while there is respiratory involvement, it may not be severe respiratory distress at this moment. Pneumonia is indeed common in young children and often presents with these symptoms, making it the most likely diagnosis in this scenario.\", 'complex_cot': \"Okay, so we're looking at a little toddler, just 2 years old, who isn't feeling well. He's coughing, has a fever, and is having a tough time breathing. First thoughts: this sounds like it could be something respiratory going on. But let's break it down further.\\n\\nAlright, his breathing rate is 50 breaths per minute. That's definitely fast for a kid his age. With young children, anything over 40 per minute is concerning, so we're looking at tachypnea here, which tells us there's likely a respiratory issue. \\n\\nNow, let's think about the absence of chest indrawing. That's interesting because chest indrawing usually happens when the breathlessness is severe, maybe suggesting this isn't too severe yet, or at least not as much as it could be.\\n\\nWhen we listen to his chest, we hear bilateral crepitations. That crackling sound typically rings some bells about fluid or some sort of inflammation in the lungs, right? So we have fast breathing, fever, and these crepitations. The pieces are starting to come together.\\n\\nNow let's toss around a few ideas. Could this be pneumonia? That could fit with fever, cough, and those crepitations. It makes sense, especially since pneumonia is common in kids and bilateral crepitations are pretty typical for it.\\n\\nAlso, could it be bronchiolitis? Hmm, not quite certain because bronchiolitis usually brings along wheezing sounds since it's usually linked with RSV in this age group. But here, we aren't finding wheezing, are we?\\n\\nAlright, thinking more about viral respiratory infections, they often come with wheezing or rhonchi, but again, we're not hearing that. Instead, we've got crepitations again.\\n\\nPutting it all together, with the bilateral crepitations, fever, and quick breathing but no severe respiratory distress or wheezing, pneumonia feels like a strong contender. Yes, pneumonia aligns pretty well with what we're seeing here. The lack of severe distress and presence of crepitations without wheezing makes this diagnosis fit nicely.\\n\\nSo yeah, I'm leaning towards pneumonia as the most likely diagnosis for the little guy.\"}, score: 0.6298293356596165), Document(id=0b0e31fd67dbe052b20e16a7a171b9170be381a2c5a0725e5a4ef7774dc8cfa6, content: 'An 8-year-old child presents with blood pressure of 180/100 mm Hg, blood urea of 90, creatinine of 5...', meta: {'response': \"Based on the presentation of severe hypertension, elevated blood urea and creatinine levels, as well as the findings from the urinalysis (pus cells, red blood cells, and proteinuria), the most likely diagnosis for this 8-year-old child is chronic kidney disease, potentially secondary to chronic interstitial nephritis, possibly due to vesicoureteral reflux (VUR).\\n\\nThe child's exceptionally high blood pressure, along with significant indicators of kidney dysfunction (high urea and creatinine), and evidence of recurrent or chronic infection/inflammation (urinalysis showing pus cells, proteinuria, and hematuria), point towards a long-term renal pathology. VUR-related complications could lead to repeated infections and progressive kidney damage, manifesting as interstitial nephritis and increased blood pressure over time. The absence of a prior notable medical history suggests a chronic progression that has been asymptomatic until reaching a critical stage. Therefore, chronic interstitial nephritis due to possible vesicoureteral reflux is a coherent working diagnosis given the cumulative evidence.\", 'complex_cot': \"Okay, so here's an 8-year-old kid with really high blood pressure, like 180/100. That's seriously high for their age. Severe hypertension in kids? That's unusual, and something's definitely not right here. \\n\\nI'm looking at the blood tests, and both urea and creatinine levels are elevated – urea at 90 and creatinine at 5.3. That screams renal issues to me. Looks like this child's kidneys aren't in great shape. \\n\\nNow, let's peek at the urinalysis. It's got 15-20 pus cells and 12 red blood cells per field, plus there's some proteinuria at 1+. Pus cells might suggest an infection or at least some inflammation. Hematuria and proteinuria point towards something with the glomeruli. \\n\\nGlomerulonephritis springs to mind. It's one of those nephritic syndrome situations you hear about with blood in the urine, lowered kidney function, and a bit of protein thrown in. Severe hypertension fits the picture too since fluid retention messes with blood pressure. Post-streptococcal? It fits with such an acute case. Maybe, but we shouldn't rule out rapidly progressive types either with these levels.\\n\\nBut wait a sec, the lab results are pretty hardcore. High creatinine and urea like this, they suggest it might not be just a sudden thing. What if it’s a more complex or chronic kidney issue that's flaring up? Chronic conditions can sometimes pop up like this if there's some underlying damage we didn't know about.\\n\\nRapidly progressive glomerulonephritis (RPGN) is on my mind as well. It does align with what we're seeing – especially with the high blood pressure and mess in the urine – and it tends to sneak up with sudden renal failure over a period.\\n\\nBut uh-oh, RPGN is a bit rare in kids, so maybe I'm barking up the wrong tree. Could there be another cause for the hypertension? Things like renal artery issues or even tumors screwing up the renin secretion, but they usually aren't paired with this kind of urinalysis. Hematuria and proteinuria generally hint at glomerular problems.\\n\\nNow let's take a step back. We've also got to think about scenarios involving chronic damage. VUR, as in vesicoureteral reflux? Is that on the table? It causes damage over time, leads to scarring, and can give you hypertension issues because of that scarring. \\n\\nHmm, pus cells in the urine could be a clue for previous or ongoing infections – which aligns with VUR-related complications like chronic interstitial nephritis. That would explain the pus cells and maybe the high blood pressure too through prolonged kidney impact.\\n\\nIn balancing all the evidence - the crazy high blood pressure, the lab values, the urinalysis, and the absence of a similar past medical history – I'm leaning toward something like chronic interstitial nephritis with potential VUR complications. It aligns with both the chronic signs in renal numbers and the harassment of chronic infections possibly leading to this stage. \\n\\nYeah, that's probably the best bet given all that's on the table. Seems like a path that checks all these boxes more closely than just an acute event could explain.\"}, score: 0.620894496877757), Document(id=742412fa5212c11d4dd1ed1fcdbb0ea9957af75b5d68a01309c5e53183310365, content: 'A 14-year-old boy presents with increasing leg swelling, generalized fatigue, and respiratory sympto...', meta: {'response': \"The clinical presentation of this 14-year-old boy is highly suggestive of cystic fibrosis. Cystic fibrosis is a genetic disorder that is characterized by chronic respiratory issues, pancreatic insufficiency leading to malabsorption and growth issues, and other systemic manifestations. \\n\\nHere’s how the symptoms align with cystic fibrosis:\\n\\n1. **Chronic Respiratory Issues**: The persistent productive cough, shortness of breath, recurrent respiratory infections, and inspiratory crackles are classic signs associated with the thick mucus production seen in cystic fibrosis, leading to repeated lung infections and respiratory complications.\\n\\n2. **Nutritional Deficiencies and Growth Retardation**: The history of foul-smelling, greasy stools points towards pancreatic insufficiency, which is common in cystic fibrosis. This insufficiency leads to poor absorption of nutrients and, as a result, growth failure, which is evidenced by the boy being in the 4th percentile for height and weight.\\n\\n3. **Clubbing of Fingers**: This is often seen in chronic lung disease conditions, including cystic fibrosis, due to long-term hypoxia (lower oxygen levels in the blood).\\n\\n4. **Cardiac and Systemic Features**: The presence of lower extremity edema, jugular venous distention, and a loud S2 suggest possible right heart strain or pulmonary hypertension, secondary to long-standing lung disease. The hepato-jugular reflux and palpable liver edge might indicate congestion due to right heart issues.\\n\\n5. **Additional Symptoms**: While scoliosis is not directly linked to cystic fibrosis, chronic illness can correlate with musculoskeletal issues in some cases.\\n\\nOverall, cystic fibrosis encompasses the respiratory, digestive, and systemic findings in this boy's clinical picture, making it the most likely diagnosis.\", 'complex_cot': \"Okay, let's break this down. We've got a 14-year-old boy with a bunch of symptoms that seem to scream some kind of chronic issue. First up, he's got these respiratory problems like a persistent cough, shortness of breath, and a track record of respiratory infections. That's definitely concerning, especially since it dates back to childhood. Could be pointing towards something he's been dealing with since he was little.\\n\\nThen there's the digestive stuff. He's having these really foul-smelling, greasy stools, which screams malabsorption to me. Usually, when you think of a kid not absorbing nutrients properly, you might consider pancreatic insufficiency. This poor nutrient absorption might also explain why he's only in the 4th percentile for height and weight – sounds like he's not growing as he should be.\\n\\nNow let’s put the physical exam findings into perspective. Clubbing of the fingers often points to chronic hypoxia; it’s seen in diseases that affect the lungs or the heart. Here, it makes sense with his respiratory symptoms. Oh, we also have 2+ pitting edema in his lower extremities and JVD – both are signs of some kind of heart involvement, maybe right heart failure due to lung problems. He's got a loud S2, which could raise suspicion for pulmonary hypertension, again tying back to chronic lung disease.\\n\\nAltogether, when I think about a condition that involves chronic respiratory issues from an early age, poor growth due to nutrient problems, and clubbing, it seems like this could fit cystic fibrosis. It's a genetic condition that affects the lungs and pancreas, causing thick mucus that leads to repeat infections and digestive issues.\\n\\nAnd about scoliosis, while it might just be coincidental, it's not outlandishly far-fetched for it to show up in kids dealing with long-term illness like CF.\\n\\nSo combining everything – the persistent lung problems, the digestive struggles, the poor growth, and the heart findings – yeah, cystic fibrosis really connects all the dots. And everything seems to reinforce that conclusion, all the classic signs are there. Seems we've figured this out.\"}, score: 0.6182711674741106), Document(id=47b4e1181a8eb5865f05156a392904f30d7f56520b4237a0e2d108d0fcb7c0fc, content: 'Based on the symptoms of headache, vomiting, difficulty in walking, truncal ataxia, papilledema, lef...', meta: {'response': \"Based on the symptoms presented: headache, vomiting, difficulty in walking, truncal ataxia, papilledema, left lateral rectus palsy, and absence of finger-to-nose ataxia in a 5-year-old child, the most likely diagnosis is medulloblastoma. This brain tumor commonly occurs in children and is typically located in the midline of the cerebellum, leading to increased intracranial pressure and symptoms related to balance and coordination, perfectly aligning with the child's presentation.\", 'complex_cot': \"Alright, let's think about this. We've got a child who is having headaches and also vomiting. That's already raising a red flag for something serious going on in the brain. Vomiting can often be a sign of increased pressure inside the skull. \\n\\nNow, they are also having trouble walking, and there's that truncal ataxia. Trouble walking suggests something might be affecting balance and coordination. Truncal ataxia is usually linked to the cerebellum, specifically the midline part called the vermis, which controls balance and posture.\\n\\nOh, and let's not forget the papilledema. That's swelling at the back of the eye, another sign of increased intracranial pressure. So whatever is causing these symptoms could be pushing on brain structures and increasing the pressure inside the skull.\\n\\nThen, there's the left lateral rectus palsy. This is an issue with the left eye not moving properly because the sixth cranial nerve might be getting squished or stretched. This nerve affects the lateral rectus muscle, which pulls the eye outward, and it's pretty susceptible to pressure because of its path through the skull.\\n\\nInterestingly, there's no problem with finger-to-nose tasks, so the part of the cerebellum that handles this fine motor control seems okay. This absence of finger-to-nose ataxia points away from the lateral cerebellar hemispheres being involved, which means the issue might be more centralized.\\n\\nNow, in kids this age, the blend of these symptoms often hints at a particular set of problems. We're talking about common childhood brain tumors. \\n\\nConsidering medulloblastoma, pilocytic astrocytoma, and ependymoma—of these, medulloblastoma fits the bill quite well because it commonly sits in the midline cerebellar area and often causes increased intracranial pressure and balance problems, just like we're seeing here.\\n\\nDefinitely seems like this combination of symptoms—truncal ataxia, increased pressure signs, and that pesky sixth cranial nerve palsy—really lines up with what we normally see in medulloblastoma cases.\\n\\nAll in all, based on the symptoms and the typical age range, medulloblastoma is looking like the most likely diagnosis here.\"}, score: 0.6112062330862935), Document(id=959834cc352f9cfaa8c376e5f960901970de90e85e4dc02301857d6aeb5255c2, content: 'A 7-year-old boy presents with progressive fatigue and shortness of breath during physical activity,...', meta: {'response': \"Based on the information provided, the most likely congenital heart disease in this 7-year-old boy presenting with progressive fatigue and shortness of breath during physical activity is an Atrial Septal Defect (ASD). The key details pointing towards this diagnosis include the symptoms of exercise intolerance and the pediatrician's suspicion following heart auscultation, potentially indicating a murmur or characteristic heart sounds associated with ASD. These symptoms align well with how ASD can present in children as they become more active.\", 'complex_cot': \"Okay, so we have a 7-year-old boy who seems to be getting tired easily and struggles with shortness of breath when he's active. That right away makes me think there's something up with his heart or lungs, but given that the doctor is honing in on heart issues, let's go down that path.\\n\\nNow, when a heart isn't doing its job properly, especially in kids, you'll often see problems during exercise. They start feeling tired because their body isn't getting enough oxygen-rich blood. That makes sense.\\n\\nNext up, the pediatrician suspects a congenital heart issue, which really narrows things down. There are several types of congenital heart diseases that could cause these symptoms. We need to think about the usual suspects: ASD, VSD, PDA, and maybe coarctation of the aorta.\\n\\nAlright, let's see. If the pediatrician noticed something through a stethoscope, we're probably talking about hearing a murmur or some kind of unusual heart sound. These are key indicators for congenital heart issues. Now, what could they have heard?\\n\\nASDs often go unnoticed because they don't always cause obvious symptoms when kids are younger. But as time goes on, the extra blood flow can start to overwhelm the pulmonary circulation, leading to exercise-related fatigue. And auscultation might reveal a subtle murmur or a classic fixed splitting of the second heart sound.\\n\\nHmm, yeah, this all lines up pretty well. The symptoms, the age, the pediatrician's clue from auscultation - everything points to an Atrial Septal Defect.\\n\\nI should probably double-check myself here. Kids with ASD might have symptoms similar to what's described here, and these can worsen with exertion due to how the heart has to work harder because of the defect.\\n\\nSo yeah, it sounds about right. Given everything, ASD stands out as the most probable congenital heart condition this little guy could have.\"}, score: 0.6029986957249984), Document(id=c69cb64460ed6412991abfb5434a6ba06fab8c0ddeeb5b0646f2a7db4a250242, content: 'What is the most likely diagnosis for a 5-year-old boy presenting with early morning headaches, seve...', meta: {'response': \"The most likely diagnosis for the 5-year-old boy, given the symptoms of early morning headaches, nausea, vomiting, difficulty walking, intermittent double vision, a broad-based gait, impaired tandem gait, bilateral papilledema (swelling of the optic discs), and esotropia of the left eye over a 6-month period, is a medulloblastoma. Medulloblastomas are common brain tumors in young children typically located in the posterior fossa, an area that includes the cerebellum and fourth ventricle. These tumors can cause obstructive hydrocephalus, which leads to increased intracranial pressure, explaining the child's headache, papilledema, and balance issues. The eye symptoms suggest cranial nerve involvement or brainstem compression. The clinical presentation and symptom timeline are consistent with medulloblastoma, necessitating urgent medical evaluation and intervention.\", 'complex_cot': \"Okay, so we have a 5-year-old boy who's been experiencing some pretty troubling symptoms. He's having headaches early in the morning, and these are often really severe and paired with nausea and occasional vomiting. That sounds like it could be a sign of something putting pressure on the brain, possibly causing increased intracranial pressure.\\n\\nNow, when I think about pressure in the brain, I also notice the swelling in both of his optic discs, which is something known as papilledema. This really makes me worry about there being some kind of mass or lesion in the brain. And yeah, he's also having problems with his balance and walking, like difficulty walking, a broad-based gait, and impaired tandem gait. It all seems to point towards problems in the part of the brain that handles balance – the cerebellum.\\n\\nAnd on top of all that, he’s having some trouble with his eyes too. He’s seeing double at times and has esotropia, where his left eye turns inward. This sort of eye issue suggests a problem with cranial nerve function, particularly something affecting the sixth cranial nerve, which controls eye movement.\\n\\nLet's piece this together a little more. We have enough clues to suspect a mass in the posterior fossa region of the brain, most likely affecting the cerebellum or even the fourth ventricle, which can lead to a type of blockage that causes the whole brain to swell – we call that obstructive hydrocephalus.\\n\\nNow, thinking about what kind of mass this could be. Hmm, in children, common tumors in the posterior fossa include medulloblastomas, ependymomas, and pilocytic astrocytomas. Given the age of this child and how these symptoms have developed over a period of 6 months, it could hint towards a medulloblastoma. These tumors are known for being quite common in young children and can be pretty aggressive. They often cause blockages leading to signs like the ones we’re seeing in him.\\n\\nAnd as I consider how fast these symptoms appeared – not super rapid but definitely over a concerning period of time – it fits the bill for medulloblastoma. Although, if we were looking at something growing more slowly, we might lean towards a pilocytic astrocytoma, but that’s less aligned with what we're seeing given the severity of his symptoms.\\n\\nOkay, so piecing it all together: the headaches, the eye issues, the difficulty with walking, and the swelling in the eyes from intracranial pressure, all happening in a 5-year-old, definitely makes medulloblastoma a very likely diagnosis. It’s a relief to have all the signs pointing in a mutual direction. Definitely, something we should classify as a critical issue that would need urgent addressing.\"}, score: 0.6029554540853221), Document(id=bdf61595aa77c306165c290d6c171e19607e95296182b9dcfe755517a7b531c8, content: 'A boy presents with symptoms of noisy breathing, stiff immobile joints, and mental retardation. What...', meta: {'response': \"The boy's symptoms of noisy breathing, stiff immobile joints, and mental retardation are most likely indicative of Hurler Syndrome, or Mucopolysaccharidosis type I. This genetic disorder is characterized by the accumulation of glycosaminoglycans due to a deficiency of the enzyme alpha-L-iduronidase, leading to the clinical features observed.\", 'complex_cot': 'Okay, so we have a boy with a few key health issues: noisy breathing, joints that aren’t moving well, and he’s got some mental challenges too. Hmm, let’s break this down a bit. Noisy breathing often makes me think of something going on with the throat or chest, like when the airways are narrowed or blocked in some way. That makes me wonder if there’s some structural issue or maybe an obstruction that’s common in certain genetic conditions. Then, if we think about his stiff joints, that’s a big signal. These could tell us he has a condition affecting connective tissues or one of those disorders where certain materials build up in the body and interfere with normal function. Now, add in mental retardation or developmental delays, and a picture starts to form. There’s a tendency for genetic or metabolic syndromes to affect both the body and the brain, so this connection raises some flags.\\n\\nGiven all these clues together, there’s one syndrome that stands out to me: Hurler Syndrome, or Mucopolysaccharidosis type I. Ah, that makes sense. In Hurler Syndrome, the body accumulates substances called glycosaminoglycans because it’s missing an enzyme that breaks them down. It messes with a lot of different systems in the body, which could explain the respiratory noises, joint stiffness, and cognitive issues. Everything lines up here with how Hurler Syndrome presents.\\n\\nSo, with everything considered, I’d say it’s pretty likely that these symptoms the boy is experiencing could be attributed to Hurler Syndrome. It offers a really comprehensive explanation for what’s going on.'}, score: 0.5999807413459991), Document(id=b7d31d49fb57a4e2c069e51629733a89ed67e08e4673c1583facc72b6383bdb7, content: 'A 10-year-old boy exhibits strange behavior including unprovoked tantrums, obsession with collecting...', meta: {'response': 'Based on the observations and behaviors exhibited by the 10-year-old boy, such as unprovoked tantrums, an intense focus and organization around collecting rocks, production of random noises like barking, difficulty with social interactions, and a strong attention to specific interests, it is likely that he may be exhibiting signs consistent with Autism Spectrum Disorder (ASD). ASD is characterized by challenges in social communication, a narrow range of interests, repetitive behaviors, and often a difficulty in understanding social cues, all of which align with the behaviors described. While a definitive diagnosis should be made by a healthcare professional through comprehensive evaluation, ASD is the most plausible diagnosis given the information provided.', 'complex_cot': \"Okay, let's start by thinking about what's going on with this boy. He's 10 years old and showing some pretty unique behaviors that are a bit concerning. First off, those unprovoked tantrums. That's a big sign that he's having trouble regulating his emotions. Kids can throw tantrums for lots of reasons, but these seem pretty random, which might point towards something deeper.\\n\\nThen there's his obsession with rocks—not just collecting them, but organizing them too. That's a very specific interest, and it's not just casual. It feels like he needs to do it a certain way. It reminds me of how some people can have very focused interests that consume a lot of their attention.\\n\\nOh, and he makes those barking noises. That's interesting; it might be tics or something similar. Maybe not enough to make a direct diagnosis from that alone, but it adds another layer to what's going on.\\n\\nSocially, the boy's not really interacting with others. He misses social cues and avoids eye contact, yet talks a lot about his interests. That's a big clue because people who have strong interests but struggle with picking up on social signals often face challenges in engaging with others naturally.\\n\\nHis artistic skills are quite detailed, which shows he has a capacity to focus and produce skillful work when he's interested. This aligns with having specific talents and strong skills in certain areas while facing other challenges.\\n\\nSo, when I put all these observations together—the emotional regulation issues, the intense focus on specific interests, social interaction struggles, and even those random noises—it really seems like we're looking at something on the autism spectrum. Autism Spectrum Disorder makes sense here because it's characterized by these exact things: the social communication difficulties, the narrow range of interests, and the repetitive behaviors. It's like all these pieces fit into the larger puzzle of ASD.\"}, score: 0.5944346242396161)]}, 'prompt_builder': {'prompt': \"\\nGiven the following information, answer the question.\\n\\nContext:\\n\\n    What is the most likely diagnosis for a 2-year-old 70 kg child who presents with limitation of abduction and internal rotation, tenderness in Scarpa's triangle, and abduction of the limb upon flexing the hip?\\n\\n    A 4-year-old boy presents with developmental delays, including delayed walking and difficulty using silverware, speaks in 2-word sentences, builds a tower of 4 blocks, can scribble but cannot draw a circle. He has features such as bilateral inferior lens dislocation, long and slender fingers, a high-arched palate, and overlapping thumb and 5th finger when gripping a wrist. The skin over his neck is easily extendable and stretchy. His height is above the 99th percentile, and his weight is at the 15th percentile. Based on these clinical features, what is the most likely cause of his condition?\\n\\n    Based on the presentation of a 2-year-old boy with cough, fever, difficulty in breathing, a respiratory rate of 50/min, no chest indrawing, and bilateral crepitations on chest auscultation, what is the most probable diagnosis?\\n\\n    An 8-year-old child presents with blood pressure of 180/100 mm Hg, blood urea of 90, creatinine of 5.3, urinalysis showing 15-20 pus cells, 12 red blood cells per high power field, and proteinuria of 1+. The child has no significant past history of similar complaints. What is the most likely diagnosis?\\n\\n    A 14-year-old boy presents with increasing leg swelling, generalized fatigue, and respiratory symptoms including a productive cough and shortness of breath. He has a history of recurrent respiratory tract infections, chronic nasal congestion since childhood, and foul-smelling, greasy stools over the past 3 months. The boy is at the 4th percentile for height and weight. Upon examination, he has clubbing of the fingers, scoliosis, 2+ pitting edema in the lower extremities, jugular venous distention, inspiratory crackles in the thorax, and a loud S2 on cardiac examination. The abdomen shows mild distention, liver edge palpable 2 cm below the right costal margin, and a positive hepato-jugular reflux. Based on this clinical presentation, what is the most likely diagnosis?\\n\\n    Based on the symptoms of headache, vomiting, difficulty in walking, truncal ataxia, papilledema, left lateral rectus palsy, and absence of finger-to-nose ataxia in a 5-year-old child, what is the most likely diagnosis?\\n\\n    A 7-year-old boy presents with progressive fatigue and shortness of breath during physical activity, with no medical history and normal physical exam findings except a pediatrician's suspicion of congenital heart disease after heart auscultation. What congenital heart disease is most likely based on these clinical features?\\n\\n    What is the most likely diagnosis for a 5-year-old boy presenting with early morning headaches, severe nausea, occasional vomiting, difficulty walking, intermittent double vision, a broad-based gait, impaired tandem gait, bilateral swelling of the optic disc, and esotropia of the left eye over a 6-month period?\\n\\n    A boy presents with symptoms of noisy breathing, stiff immobile joints, and mental retardation. What syndrome is most likely responsible for these clinical features?\\n\\n    A 10-year-old boy exhibits strange behavior including unprovoked tantrums, obsession with collecting and organizing rocks, random barking noises, lack of social interaction, intense focus on specific interests, and detailed artistic skills. During a physical assessment, he avoids eye contact but speaks extensively about his interests without recognizing social cues. Considering these symptoms, what is the most likely diagnosis for the child?\\n\\n\\nQuestion: What is the most likely diagnosis for a 2-year-old 70 kg child?\\nAnswer:\"}, 'llm': {'replies': [\"The provided text describes a 2-year-old child weighing 70 kg, which is significantly overweight for their age.  The other symptoms (limitation of abduction and internal rotation, tenderness in Scarpa's triangle, and abduction of the limb upon flexing the hip) suggest **developmental dysplasia of the hip (DDH)**.  However, the extreme weight warrants further investigation for other contributing factors.  The diagnosis of DDH needs to be confirmed through a physical exam and imaging.  The weight itself is a significant finding and should be addressed, likely through consultation with a nutritionist and exploration of potential underlying endocrine disorders.\\n\"]}}\n"
     ]
    }
   ],
   "source": [
    "print(response.keys())\n",
    "print(response)\n"
   ]
  },
  {
   "cell_type": "code",
   "execution_count": 190,
   "id": "4dac57c5",
   "metadata": {},
   "outputs": [],
   "source": [
    "#response"
   ]
  },
  {
   "cell_type": "code",
   "execution_count": 191,
   "id": "0160c0a6",
   "metadata": {},
   "outputs": [],
   "source": [
    "# # Example query\n",
    "# query = \"What is generative AI?\"\n",
    "\n",
    "# # Run the pipeline\n",
    "# result = basic_rag_pipeline.run({\n",
    "#     \"text_embedder\": {\"text\": query}, \"prompt_builder\": {\"question\": question}\n",
    "# })\n",
    "\n",
    "# # 🔎 Check retrieved documents\n",
    "# retrieved_docs = response[\"retriever\"][\"documents\"]\n",
    "# # print(\"\\n=== Retrieved Documents ===\")\n",
    "# # for i, doc in enumerate(retrieved_docs, 1):\n",
    "# #     print(f\"\\nDocument {i}:\")\n",
    "# #     print(\"Content:\", doc.content)\n",
    "# #     print(\"Meta:\", doc.meta)\n",
    "\n",
    "# # 🔎 Check the built prompt\n",
    "# prompt_text = response[\"prompt_builder\"][\"prompt\"]\n",
    "# print(\"\\n=== Built Prompt ===\")\n",
    "# print(prompt_text)\n",
    "\n",
    "# # ✅ Final LLM answer\n",
    "# print(\"\\n=== LLM Answer ===\")\n",
    "# print(response[\"llm\"][\"replies\"][0])\n"
   ]
  },
  {
   "cell_type": "code",
   "execution_count": 154,
   "id": "df628de4",
   "metadata": {},
   "outputs": [
    {
     "data": {
      "text/plain": [
       "\"The most likely diagnosis for a 2-year-old 70 kg child presenting with limitation of abduction and internal rotation, tenderness in Scarpa's triangle, and abduction of the limb upon flexing the hip is **a septic hip (septic arthritis of the hip)**.  The extreme weight (70 kg is significantly above the normal weight for a 2-year-old) is not directly related to the diagnosis but highlights the unusual presentation.  The other symptoms strongly suggest a septic joint.\\n\""
      ]
     },
     "execution_count": 154,
     "metadata": {},
     "output_type": "execute_result"
    }
   ],
   "source": [
    "response['llm']['replies'][0]"
   ]
  },
  {
   "cell_type": "code",
   "execution_count": 158,
   "id": "9fc0b900",
   "metadata": {},
   "outputs": [],
   "source": [
    "question=\"What is the most likely diagnosis for a 2-year-old 70 kg child?\""
   ]
  },
  {
   "cell_type": "code",
   "execution_count": 159,
   "id": "eba6641a",
   "metadata": {},
   "outputs": [
    {
     "name": "stderr",
     "output_type": "stream",
     "text": [
      "Batches: 100%|██████████| 1/1 [00:00<00:00, 22.22it/s]\n"
     ]
    }
   ],
   "source": [
    "response = basic_rag_pipeline.run({\"text_embedder\": {\"text\": question}, \"prompt_builder\": {\"question\": question}})"
   ]
  },
  {
   "cell_type": "code",
   "execution_count": 160,
   "id": "574b1fa7",
   "metadata": {},
   "outputs": [
    {
     "data": {
      "text/plain": [
       "\"The provided text gives symptoms, but doesn't state a diagnosis.  A 2-year-old weighing 70 kg is extremely obese, and this extreme weight itself would be a major concern requiring investigation.  The symptoms of limitation of abduction and internal rotation, tenderness in Scarpa's triangle, and abduction of the limb upon flexing the hip suggest a possible hip problem, perhaps septic arthritis or another infection. However, without further information, a precise diagnosis cannot be made.  The extreme weight should be a primary consideration in any differential diagnosis.\\n\""
      ]
     },
     "execution_count": 160,
     "metadata": {},
     "output_type": "execute_result"
    }
   ],
   "source": [
    "response[\"llm\"][\"replies\"][0]"
   ]
  }
 ],
 "metadata": {
  "kernelspec": {
   "display_name": ".genaienv",
   "language": "python",
   "name": "python3"
  },
  "language_info": {
   "codemirror_mode": {
    "name": "ipython",
    "version": 3
   },
   "file_extension": ".py",
   "mimetype": "text/x-python",
   "name": "python",
   "nbconvert_exporter": "python",
   "pygments_lexer": "ipython3",
   "version": "3.12.7"
  }
 },
 "nbformat": 4,
 "nbformat_minor": 5
}
